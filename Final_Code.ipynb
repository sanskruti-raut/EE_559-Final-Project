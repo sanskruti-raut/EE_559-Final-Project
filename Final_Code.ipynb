{
 "cells": [
  {
   "cell_type": "code",
<<<<<<< HEAD
   "execution_count": 1,
=======
   "execution_count": 34,
>>>>>>> 2aa48f7c9b1ceef4006d1d815362e15f2853ff2d
   "metadata": {},
   "outputs": [],
   "source": [
    "import pandas as pd\n",
    "import numpy as np\n",
    "import seaborn as sns\n",
    "import matplotlib.pyplot as plt\n",
    "from sklearn.ensemble import RandomForestRegressor\n",
    "from sklearn.model_selection import train_test_split\n",
    "from sklearn.preprocessing import StandardScaler, OneHotEncoder\n",
    "from sklearn.compose import ColumnTransformer\n",
    "from sklearn.pipeline import Pipeline\n",
    "from sklearn.metrics import mean_squared_error\n",
    "from sklearn.impute import SimpleImputer"
   ]
  },
  {
   "cell_type": "code",
<<<<<<< HEAD
   "execution_count": 2,
=======
   "execution_count": 35,
>>>>>>> 2aa48f7c9b1ceef4006d1d815362e15f2853ff2d
   "metadata": {},
   "outputs": [
    {
     "data": {
      "text/html": [
       "<div>\n",
       "<style scoped>\n",
       "    .dataframe tbody tr th:only-of-type {\n",
       "        vertical-align: middle;\n",
       "    }\n",
       "\n",
       "    .dataframe tbody tr th {\n",
       "        vertical-align: top;\n",
       "    }\n",
       "\n",
       "    .dataframe thead th {\n",
       "        text-align: right;\n",
       "    }\n",
       "</style>\n",
       "<table border=\"1\" class=\"dataframe\">\n",
       "  <thead>\n",
       "    <tr style=\"text-align: right;\">\n",
       "      <th></th>\n",
       "      <th>Number</th>\n",
       "      <th>Company</th>\n",
       "      <th>TypeName</th>\n",
       "      <th>Inches</th>\n",
       "      <th>ScreenResolution</th>\n",
       "      <th>Cpu</th>\n",
       "      <th>Ram</th>\n",
       "      <th>Memory</th>\n",
       "      <th>Gpu</th>\n",
       "      <th>OpSys</th>\n",
       "      <th>Weight</th>\n",
       "      <th>Price</th>\n",
       "    </tr>\n",
       "  </thead>\n",
       "  <tbody>\n",
       "    <tr>\n",
       "      <th>0</th>\n",
       "      <td>0</td>\n",
       "      <td>Apple</td>\n",
       "      <td>Ultrabook</td>\n",
       "      <td>13.3</td>\n",
       "      <td>IPS Panel Retina Display 2560x1600</td>\n",
       "      <td>Intel Core i5 2.3GHz</td>\n",
       "      <td>8GB</td>\n",
       "      <td>128GB SSD</td>\n",
       "      <td>Intel Iris Plus Graphics 640</td>\n",
       "      <td>macOS</td>\n",
       "      <td>1.37kg</td>\n",
       "      <td>71378.6832</td>\n",
       "    </tr>\n",
       "    <tr>\n",
       "      <th>1</th>\n",
       "      <td>1</td>\n",
       "      <td>Apple</td>\n",
       "      <td>Ultrabook</td>\n",
       "      <td>13.3</td>\n",
       "      <td>1440x900</td>\n",
       "      <td>Intel Core i5 1.8GHz</td>\n",
       "      <td>8GB</td>\n",
       "      <td>128GB Flash Storage</td>\n",
       "      <td>Intel HD Graphics 6000</td>\n",
       "      <td>macOS</td>\n",
       "      <td>1.34kg</td>\n",
       "      <td>47895.5232</td>\n",
       "    </tr>\n",
       "    <tr>\n",
       "      <th>2</th>\n",
       "      <td>2</td>\n",
       "      <td>HP</td>\n",
       "      <td>Notebook</td>\n",
       "      <td>15.6</td>\n",
       "      <td>Full HD 1920x1080</td>\n",
       "      <td>Intel Core i5 7200U 2.5GHz</td>\n",
       "      <td>8GB</td>\n",
       "      <td>256GB SSD</td>\n",
       "      <td>Intel HD Graphics 620</td>\n",
       "      <td>No OS</td>\n",
       "      <td>1.86kg</td>\n",
       "      <td>30636.0000</td>\n",
       "    </tr>\n",
       "    <tr>\n",
       "      <th>3</th>\n",
       "      <td>3</td>\n",
       "      <td>Apple</td>\n",
       "      <td>Ultrabook</td>\n",
       "      <td>15.4</td>\n",
       "      <td>IPS Panel Retina Display 2880x1800</td>\n",
       "      <td>Intel Core i7 2.7GHz</td>\n",
       "      <td>16GB</td>\n",
       "      <td>512GB SSD</td>\n",
       "      <td>AMD Radeon Pro 455</td>\n",
       "      <td>macOS</td>\n",
       "      <td>1.83kg</td>\n",
       "      <td>135195.3360</td>\n",
       "    </tr>\n",
       "    <tr>\n",
       "      <th>4</th>\n",
       "      <td>4</td>\n",
       "      <td>Apple</td>\n",
       "      <td>Ultrabook</td>\n",
       "      <td>13.3</td>\n",
       "      <td>IPS Panel Retina Display 2560x1600</td>\n",
       "      <td>Intel Core i5 3.1GHz</td>\n",
       "      <td>8GB</td>\n",
       "      <td>256GB SSD</td>\n",
       "      <td>Intel Iris Plus Graphics 650</td>\n",
       "      <td>macOS</td>\n",
       "      <td>1.37kg</td>\n",
       "      <td>96095.8080</td>\n",
       "    </tr>\n",
       "  </tbody>\n",
       "</table>\n",
       "</div>"
      ],
      "text/plain": [
       "   Number Company   TypeName  Inches                    ScreenResolution  \\\n",
       "0       0   Apple  Ultrabook    13.3  IPS Panel Retina Display 2560x1600   \n",
       "1       1   Apple  Ultrabook    13.3                            1440x900   \n",
       "2       2      HP   Notebook    15.6                   Full HD 1920x1080   \n",
       "3       3   Apple  Ultrabook    15.4  IPS Panel Retina Display 2880x1800   \n",
       "4       4   Apple  Ultrabook    13.3  IPS Panel Retina Display 2560x1600   \n",
       "\n",
       "                          Cpu   Ram               Memory  \\\n",
       "0        Intel Core i5 2.3GHz   8GB            128GB SSD   \n",
       "1        Intel Core i5 1.8GHz   8GB  128GB Flash Storage   \n",
       "2  Intel Core i5 7200U 2.5GHz   8GB            256GB SSD   \n",
       "3        Intel Core i7 2.7GHz  16GB            512GB SSD   \n",
       "4        Intel Core i5 3.1GHz   8GB            256GB SSD   \n",
       "\n",
       "                            Gpu  OpSys  Weight        Price  \n",
       "0  Intel Iris Plus Graphics 640  macOS  1.37kg   71378.6832  \n",
       "1        Intel HD Graphics 6000  macOS  1.34kg   47895.5232  \n",
       "2         Intel HD Graphics 620  No OS  1.86kg   30636.0000  \n",
       "3            AMD Radeon Pro 455  macOS  1.83kg  135195.3360  \n",
       "4  Intel Iris Plus Graphics 650  macOS  1.37kg   96095.8080  "
      ]
     },
<<<<<<< HEAD
     "execution_count": 2,
=======
     "execution_count": 35,
>>>>>>> 2aa48f7c9b1ceef4006d1d815362e15f2853ff2d
     "metadata": {},
     "output_type": "execute_result"
    }
   ],
   "source": [
    "df = pd.read_csv('laptop_data_train.csv')\n",
    "df.head()"
   ]
  },
  {
   "cell_type": "code",
<<<<<<< HEAD
   "execution_count": 3,
=======
   "execution_count": 36,
>>>>>>> 2aa48f7c9b1ceef4006d1d815362e15f2853ff2d
   "metadata": {},
   "outputs": [
    {
     "data": {
      "text/plain": [
       "0"
      ]
     },
<<<<<<< HEAD
     "execution_count": 3,
=======
     "execution_count": 36,
>>>>>>> 2aa48f7c9b1ceef4006d1d815362e15f2853ff2d
     "metadata": {},
     "output_type": "execute_result"
    }
   ],
   "source": [
    "df.duplicated().sum()"
   ]
  },
  {
   "cell_type": "code",
<<<<<<< HEAD
   "execution_count": 4,
=======
   "execution_count": 37,
>>>>>>> 2aa48f7c9b1ceef4006d1d815362e15f2853ff2d
   "metadata": {},
   "outputs": [
    {
     "data": {
      "text/plain": [
       "Number              0\n",
       "Company             0\n",
       "TypeName            0\n",
       "Inches              0\n",
       "ScreenResolution    0\n",
       "Cpu                 0\n",
       "Ram                 0\n",
       "Memory              0\n",
       "Gpu                 0\n",
       "OpSys               0\n",
       "Weight              0\n",
       "Price               0\n",
       "dtype: int64"
      ]
     },
<<<<<<< HEAD
     "execution_count": 4,
=======
     "execution_count": 37,
>>>>>>> 2aa48f7c9b1ceef4006d1d815362e15f2853ff2d
     "metadata": {},
     "output_type": "execute_result"
    }
   ],
   "source": [
    "df.isnull().sum()"
   ]
  },
  {
   "cell_type": "code",
<<<<<<< HEAD
   "execution_count": 5,
=======
   "execution_count": 38,
>>>>>>> 2aa48f7c9b1ceef4006d1d815362e15f2853ff2d
   "metadata": {},
   "outputs": [
    {
     "data": {
      "text/html": [
       "<div>\n",
       "<style scoped>\n",
       "    .dataframe tbody tr th:only-of-type {\n",
       "        vertical-align: middle;\n",
       "    }\n",
       "\n",
       "    .dataframe tbody tr th {\n",
       "        vertical-align: top;\n",
       "    }\n",
       "\n",
       "    .dataframe thead th {\n",
       "        text-align: right;\n",
       "    }\n",
       "</style>\n",
       "<table border=\"1\" class=\"dataframe\">\n",
       "  <thead>\n",
       "    <tr style=\"text-align: right;\">\n",
       "      <th></th>\n",
       "      <th>Number</th>\n",
       "      <th>Company</th>\n",
       "      <th>TypeName</th>\n",
       "      <th>Inches</th>\n",
       "      <th>ScreenResolution</th>\n",
       "      <th>Cpu</th>\n",
       "      <th>Ram</th>\n",
       "      <th>Memory</th>\n",
       "      <th>Gpu</th>\n",
       "      <th>OpSys</th>\n",
       "      <th>Weight</th>\n",
       "      <th>Price</th>\n",
       "    </tr>\n",
       "  </thead>\n",
       "  <tbody>\n",
       "    <tr>\n",
       "      <th>0</th>\n",
       "      <td>0</td>\n",
       "      <td>Apple</td>\n",
       "      <td>Ultrabook</td>\n",
       "      <td>13.3</td>\n",
       "      <td>IPS Panel Retina Display 2560x1600</td>\n",
       "      <td>Intel Core i5 2.3GHz</td>\n",
       "      <td>8GB</td>\n",
       "      <td>128GB SSD</td>\n",
       "      <td>Intel Iris Plus Graphics 640</td>\n",
       "      <td>macOS</td>\n",
       "      <td>1.37kg</td>\n",
       "      <td>71378.6832</td>\n",
       "    </tr>\n",
       "    <tr>\n",
       "      <th>1</th>\n",
       "      <td>1</td>\n",
       "      <td>Apple</td>\n",
       "      <td>Ultrabook</td>\n",
       "      <td>13.3</td>\n",
       "      <td>1440x900</td>\n",
       "      <td>Intel Core i5 1.8GHz</td>\n",
       "      <td>8GB</td>\n",
       "      <td>128GB Flash Storage</td>\n",
       "      <td>Intel HD Graphics 6000</td>\n",
       "      <td>macOS</td>\n",
       "      <td>1.34kg</td>\n",
       "      <td>47895.5232</td>\n",
       "    </tr>\n",
       "    <tr>\n",
       "      <th>2</th>\n",
       "      <td>2</td>\n",
       "      <td>HP</td>\n",
       "      <td>Notebook</td>\n",
       "      <td>15.6</td>\n",
       "      <td>Full HD 1920x1080</td>\n",
       "      <td>Intel Core i5 7200U 2.5GHz</td>\n",
       "      <td>8GB</td>\n",
       "      <td>256GB SSD</td>\n",
       "      <td>Intel HD Graphics 620</td>\n",
       "      <td>No OS</td>\n",
       "      <td>1.86kg</td>\n",
       "      <td>30636.0000</td>\n",
       "    </tr>\n",
       "    <tr>\n",
       "      <th>3</th>\n",
       "      <td>3</td>\n",
       "      <td>Apple</td>\n",
       "      <td>Ultrabook</td>\n",
       "      <td>15.4</td>\n",
       "      <td>IPS Panel Retina Display 2880x1800</td>\n",
       "      <td>Intel Core i7 2.7GHz</td>\n",
       "      <td>16GB</td>\n",
       "      <td>512GB SSD</td>\n",
       "      <td>AMD Radeon Pro 455</td>\n",
       "      <td>macOS</td>\n",
       "      <td>1.83kg</td>\n",
       "      <td>135195.3360</td>\n",
       "    </tr>\n",
       "    <tr>\n",
       "      <th>4</th>\n",
       "      <td>4</td>\n",
       "      <td>Apple</td>\n",
       "      <td>Ultrabook</td>\n",
       "      <td>13.3</td>\n",
       "      <td>IPS Panel Retina Display 2560x1600</td>\n",
       "      <td>Intel Core i5 3.1GHz</td>\n",
       "      <td>8GB</td>\n",
       "      <td>256GB SSD</td>\n",
       "      <td>Intel Iris Plus Graphics 650</td>\n",
       "      <td>macOS</td>\n",
       "      <td>1.37kg</td>\n",
       "      <td>96095.8080</td>\n",
       "    </tr>\n",
       "  </tbody>\n",
       "</table>\n",
       "</div>"
      ],
      "text/plain": [
       "   Number Company   TypeName  Inches                    ScreenResolution  \\\n",
       "0       0   Apple  Ultrabook    13.3  IPS Panel Retina Display 2560x1600   \n",
       "1       1   Apple  Ultrabook    13.3                            1440x900   \n",
       "2       2      HP   Notebook    15.6                   Full HD 1920x1080   \n",
       "3       3   Apple  Ultrabook    15.4  IPS Panel Retina Display 2880x1800   \n",
       "4       4   Apple  Ultrabook    13.3  IPS Panel Retina Display 2560x1600   \n",
       "\n",
       "                          Cpu   Ram               Memory  \\\n",
       "0        Intel Core i5 2.3GHz   8GB            128GB SSD   \n",
       "1        Intel Core i5 1.8GHz   8GB  128GB Flash Storage   \n",
       "2  Intel Core i5 7200U 2.5GHz   8GB            256GB SSD   \n",
       "3        Intel Core i7 2.7GHz  16GB            512GB SSD   \n",
       "4        Intel Core i5 3.1GHz   8GB            256GB SSD   \n",
       "\n",
       "                            Gpu  OpSys  Weight        Price  \n",
       "0  Intel Iris Plus Graphics 640  macOS  1.37kg   71378.6832  \n",
       "1        Intel HD Graphics 6000  macOS  1.34kg   47895.5232  \n",
       "2         Intel HD Graphics 620  No OS  1.86kg   30636.0000  \n",
       "3            AMD Radeon Pro 455  macOS  1.83kg  135195.3360  \n",
       "4  Intel Iris Plus Graphics 650  macOS  1.37kg   96095.8080  "
      ]
     },
<<<<<<< HEAD
     "execution_count": 5,
=======
     "execution_count": 38,
>>>>>>> 2aa48f7c9b1ceef4006d1d815362e15f2853ff2d
     "metadata": {},
     "output_type": "execute_result"
    }
   ],
   "source": [
    "df.head()"
   ]
  },
  {
   "cell_type": "code",
<<<<<<< HEAD
   "execution_count": 6,
=======
   "execution_count": 39,
>>>>>>> 2aa48f7c9b1ceef4006d1d815362e15f2853ff2d
   "metadata": {},
   "outputs": [],
   "source": [
    "df['Ram'] = df['Ram'].str.replace('GB', '')\n",
    "df['Weight'] = df['Weight'].str.replace('kg', '')"
   ]
  },
  {
   "cell_type": "code",
<<<<<<< HEAD
   "execution_count": 7,
=======
   "execution_count": 40,
>>>>>>> 2aa48f7c9b1ceef4006d1d815362e15f2853ff2d
   "metadata": {},
   "outputs": [],
   "source": [
    "df['Ram'] = df['Ram'].astype('int32')\n",
    "df['Weight'] = df['Weight'].astype('float32')"
   ]
  },
  {
   "cell_type": "code",
<<<<<<< HEAD
   "execution_count": 8,
=======
   "execution_count": 41,
>>>>>>> 2aa48f7c9b1ceef4006d1d815362e15f2853ff2d
   "metadata": {},
   "outputs": [],
   "source": [
    "# Split the 'ScreenResolution' column by 'x' and expand it into separate columns\n",
    "resolution_split = df['ScreenResolution'].str.split('x', expand=True)\n",
    "\n",
    "# Extract screen resolution width and height from the split columns\n",
    "df['ResolutionWidth'] = resolution_split[0].str.extract('(\\d+)').astype(int)\n",
    "df['ResolutionHeight'] = resolution_split[1].str.extract('(\\d+)').astype(int)\n",
    "\n",
    "df.drop('ScreenResolution', axis=1, inplace=True)"
   ]
  },
  {
   "cell_type": "code",
<<<<<<< HEAD
   "execution_count": 9,
=======
   "execution_count": 42,
>>>>>>> 2aa48f7c9b1ceef4006d1d815362e15f2853ff2d
   "metadata": {},
   "outputs": [],
   "source": [
    "import re\n",
    "\n",
    "def extract_storage(memory_str):\n",
    "    storage_parts = re.findall(r'(\\d+)(GB|TB)', memory_str)\n",
    "    total_storage = 0\n",
    "    for part in storage_parts:\n",
    "        size, unit = part\n",
    "        size = int(size)\n",
    "        if unit == 'TB':  # Convert TB to GB\n",
    "            size *= 1024\n",
    "        total_storage += size\n",
    "    return total_storage\n",
    "\n",
    "df['TotalStorageGB'] = df['Memory'].apply(extract_storage)\n",
    "\n",
    "def primary_storage_type(memory_str):\n",
    "    if 'SSD' in memory_str:\n",
    "        return 'SSD'\n",
    "    elif 'HDD' in memory_str:\n",
    "        return 'HDD'\n",
    "    elif 'Flash Storage' in memory_str:\n",
    "        return 'Flash'\n",
    "    else:\n",
    "        return 'Other'\n",
    "\n",
    "df['PrimaryStorageType'] = df['Memory'].apply(primary_storage_type)\n"
   ]
  },
  {
   "cell_type": "code",
<<<<<<< HEAD
   "execution_count": 10,
=======
   "execution_count": 43,
>>>>>>> 2aa48f7c9b1ceef4006d1d815362e15f2853ff2d
   "metadata": {},
   "outputs": [
    {
     "data": {
      "text/html": [
       "<div>\n",
       "<style scoped>\n",
       "    .dataframe tbody tr th:only-of-type {\n",
       "        vertical-align: middle;\n",
       "    }\n",
       "\n",
       "    .dataframe tbody tr th {\n",
       "        vertical-align: top;\n",
       "    }\n",
       "\n",
       "    .dataframe thead th {\n",
       "        text-align: right;\n",
       "    }\n",
       "</style>\n",
       "<table border=\"1\" class=\"dataframe\">\n",
       "  <thead>\n",
       "    <tr style=\"text-align: right;\">\n",
       "      <th></th>\n",
       "      <th>Cpu</th>\n",
       "      <th>CpuBrand</th>\n",
       "      <th>CpuType</th>\n",
       "      <th>CpuSpeedGHz</th>\n",
       "    </tr>\n",
       "  </thead>\n",
       "  <tbody>\n",
       "    <tr>\n",
       "      <th>0</th>\n",
       "      <td>Intel Core i5 2.3GHz</td>\n",
       "      <td>Intel</td>\n",
       "      <td>Core i5</td>\n",
       "      <td>2.3</td>\n",
       "    </tr>\n",
       "    <tr>\n",
       "      <th>1</th>\n",
       "      <td>Intel Core i5 1.8GHz</td>\n",
       "      <td>Intel</td>\n",
       "      <td>Core i5</td>\n",
       "      <td>1.8</td>\n",
       "    </tr>\n",
       "    <tr>\n",
       "      <th>2</th>\n",
       "      <td>Intel Core i5 7200U 2.5GHz</td>\n",
       "      <td>Intel</td>\n",
       "      <td>Core i5</td>\n",
       "      <td>2.5</td>\n",
       "    </tr>\n",
       "    <tr>\n",
       "      <th>3</th>\n",
       "      <td>Intel Core i7 2.7GHz</td>\n",
       "      <td>Intel</td>\n",
       "      <td>Core i7</td>\n",
       "      <td>2.7</td>\n",
       "    </tr>\n",
       "    <tr>\n",
       "      <th>4</th>\n",
       "      <td>Intel Core i5 3.1GHz</td>\n",
       "      <td>Intel</td>\n",
       "      <td>Core i5</td>\n",
       "      <td>3.1</td>\n",
       "    </tr>\n",
       "  </tbody>\n",
       "</table>\n",
       "</div>"
      ],
      "text/plain": [
       "                          Cpu CpuBrand  CpuType  CpuSpeedGHz\n",
       "0        Intel Core i5 2.3GHz    Intel  Core i5          2.3\n",
       "1        Intel Core i5 1.8GHz    Intel  Core i5          1.8\n",
       "2  Intel Core i5 7200U 2.5GHz    Intel  Core i5          2.5\n",
       "3        Intel Core i7 2.7GHz    Intel  Core i7          2.7\n",
       "4        Intel Core i5 3.1GHz    Intel  Core i5          3.1"
      ]
     },
<<<<<<< HEAD
     "execution_count": 10,
=======
     "execution_count": 43,
>>>>>>> 2aa48f7c9b1ceef4006d1d815362e15f2853ff2d
     "metadata": {},
     "output_type": "execute_result"
    }
   ],
   "source": [
    "def parse_general_cpu_type(cpu_str):\n",
    "    \n",
    "    match = re.search(r'(\\bIntel\\b|\\bAMD\\b)\\s+(Core i\\d|Celeron|Pentium|Xeon|A\\d|Ryzen)', cpu_str)\n",
    "    if match:\n",
    "        brand = match.group(1)\n",
    "        type = match.group(2).strip()\n",
    "        # Safely extract the speed, ensuring the regex match is not None\n",
    "        speed_match = re.search(r'(\\d\\.\\d)GHz', cpu_str)\n",
    "        if speed_match:\n",
    "            speed_ghz = float(speed_match.group(1))\n",
    "            return brand, type, speed_ghz\n",
    "    return 'Unknown', 'Unknown', 0\n",
    "\n",
    "# Apply the function again to simplify CPU types\n",
    "df['CpuBrand'], df['CpuType'], df['CpuSpeedGHz'] = zip(*df['Cpu'].apply(parse_general_cpu_type))\n",
    "\n",
    "# Create simplified CPU type dummies multiplied by the CPU speed\n",
    "cpu_type_simplified_dummies = pd.get_dummies(df['CpuType'])\n",
    "for column in cpu_type_simplified_dummies.columns:\n",
    "    cpu_type_simplified_dummies[column] *= df['CpuSpeedGHz']\n",
    "\n",
    "# Add these new features to the original DataFrame\n",
    "data_with_simplified_cpu_speeds = pd.concat([df, cpu_type_simplified_dummies], axis=1)\n",
    "\n",
    "# Show the first few rows to check the new structure with simplified CPU type and speed columns\n",
    "data_with_simplified_cpu_speeds[['Cpu', 'CpuBrand', 'CpuType', 'CpuSpeedGHz']].head()\n"
   ]
  },
  {
   "cell_type": "code",
<<<<<<< HEAD
   "execution_count": 11,
=======
   "execution_count": 44,
>>>>>>> 2aa48f7c9b1ceef4006d1d815362e15f2853ff2d
   "metadata": {},
   "outputs": [
    {
     "data": {
      "text/html": [
       "<div>\n",
       "<style scoped>\n",
       "    .dataframe tbody tr th:only-of-type {\n",
       "        vertical-align: middle;\n",
       "    }\n",
       "\n",
       "    .dataframe tbody tr th {\n",
       "        vertical-align: top;\n",
       "    }\n",
       "\n",
       "    .dataframe thead th {\n",
       "        text-align: right;\n",
       "    }\n",
       "</style>\n",
       "<table border=\"1\" class=\"dataframe\">\n",
       "  <thead>\n",
       "    <tr style=\"text-align: right;\">\n",
       "      <th></th>\n",
       "      <th>Number</th>\n",
       "      <th>Company</th>\n",
       "      <th>TypeName</th>\n",
       "      <th>Inches</th>\n",
       "      <th>Cpu</th>\n",
       "      <th>Ram</th>\n",
       "      <th>Memory</th>\n",
       "      <th>Gpu</th>\n",
       "      <th>OpSys</th>\n",
       "      <th>Weight</th>\n",
       "      <th>...</th>\n",
       "      <th>A8</th>\n",
       "      <th>A9</th>\n",
       "      <th>Celeron</th>\n",
       "      <th>Core i3</th>\n",
       "      <th>Core i5</th>\n",
       "      <th>Core i7</th>\n",
       "      <th>Pentium</th>\n",
       "      <th>Ryzen</th>\n",
       "      <th>Unknown</th>\n",
       "      <th>Xeon</th>\n",
       "    </tr>\n",
       "  </thead>\n",
       "  <tbody>\n",
       "    <tr>\n",
       "      <th>0</th>\n",
       "      <td>0</td>\n",
       "      <td>Apple</td>\n",
       "      <td>Ultrabook</td>\n",
       "      <td>13.3</td>\n",
       "      <td>Intel Core i5 2.3GHz</td>\n",
       "      <td>8</td>\n",
       "      <td>128GB SSD</td>\n",
       "      <td>Intel Iris Plus Graphics 640</td>\n",
       "      <td>macOS</td>\n",
       "      <td>1.37</td>\n",
       "      <td>...</td>\n",
       "      <td>0.0</td>\n",
       "      <td>0.0</td>\n",
       "      <td>0.0</td>\n",
       "      <td>0.0</td>\n",
       "      <td>2.3</td>\n",
       "      <td>0.0</td>\n",
       "      <td>0.0</td>\n",
       "      <td>0.0</td>\n",
       "      <td>0.0</td>\n",
       "      <td>0.0</td>\n",
       "    </tr>\n",
       "    <tr>\n",
       "      <th>1</th>\n",
       "      <td>1</td>\n",
       "      <td>Apple</td>\n",
       "      <td>Ultrabook</td>\n",
       "      <td>13.3</td>\n",
       "      <td>Intel Core i5 1.8GHz</td>\n",
       "      <td>8</td>\n",
       "      <td>128GB Flash Storage</td>\n",
       "      <td>Intel HD Graphics 6000</td>\n",
       "      <td>macOS</td>\n",
       "      <td>1.34</td>\n",
       "      <td>...</td>\n",
       "      <td>0.0</td>\n",
       "      <td>0.0</td>\n",
       "      <td>0.0</td>\n",
       "      <td>0.0</td>\n",
       "      <td>1.8</td>\n",
       "      <td>0.0</td>\n",
       "      <td>0.0</td>\n",
       "      <td>0.0</td>\n",
       "      <td>0.0</td>\n",
       "      <td>0.0</td>\n",
       "    </tr>\n",
       "    <tr>\n",
       "      <th>2</th>\n",
       "      <td>2</td>\n",
       "      <td>HP</td>\n",
       "      <td>Notebook</td>\n",
       "      <td>15.6</td>\n",
       "      <td>Intel Core i5 7200U 2.5GHz</td>\n",
       "      <td>8</td>\n",
       "      <td>256GB SSD</td>\n",
       "      <td>Intel HD Graphics 620</td>\n",
       "      <td>No OS</td>\n",
       "      <td>1.86</td>\n",
       "      <td>...</td>\n",
       "      <td>0.0</td>\n",
       "      <td>0.0</td>\n",
       "      <td>0.0</td>\n",
       "      <td>0.0</td>\n",
       "      <td>2.5</td>\n",
       "      <td>0.0</td>\n",
       "      <td>0.0</td>\n",
       "      <td>0.0</td>\n",
       "      <td>0.0</td>\n",
       "      <td>0.0</td>\n",
       "    </tr>\n",
       "    <tr>\n",
       "      <th>3</th>\n",
       "      <td>3</td>\n",
       "      <td>Apple</td>\n",
       "      <td>Ultrabook</td>\n",
       "      <td>15.4</td>\n",
       "      <td>Intel Core i7 2.7GHz</td>\n",
       "      <td>16</td>\n",
       "      <td>512GB SSD</td>\n",
       "      <td>AMD Radeon Pro 455</td>\n",
       "      <td>macOS</td>\n",
       "      <td>1.83</td>\n",
       "      <td>...</td>\n",
       "      <td>0.0</td>\n",
       "      <td>0.0</td>\n",
       "      <td>0.0</td>\n",
       "      <td>0.0</td>\n",
       "      <td>0.0</td>\n",
       "      <td>2.7</td>\n",
       "      <td>0.0</td>\n",
       "      <td>0.0</td>\n",
       "      <td>0.0</td>\n",
       "      <td>0.0</td>\n",
       "    </tr>\n",
       "    <tr>\n",
       "      <th>4</th>\n",
       "      <td>4</td>\n",
       "      <td>Apple</td>\n",
       "      <td>Ultrabook</td>\n",
       "      <td>13.3</td>\n",
       "      <td>Intel Core i5 3.1GHz</td>\n",
       "      <td>8</td>\n",
       "      <td>256GB SSD</td>\n",
       "      <td>Intel Iris Plus Graphics 650</td>\n",
       "      <td>macOS</td>\n",
       "      <td>1.37</td>\n",
       "      <td>...</td>\n",
       "      <td>0.0</td>\n",
       "      <td>0.0</td>\n",
       "      <td>0.0</td>\n",
       "      <td>0.0</td>\n",
       "      <td>3.1</td>\n",
       "      <td>0.0</td>\n",
       "      <td>0.0</td>\n",
       "      <td>0.0</td>\n",
       "      <td>0.0</td>\n",
       "      <td>0.0</td>\n",
       "    </tr>\n",
       "  </tbody>\n",
       "</table>\n",
       "<p>5 rows × 31 columns</p>\n",
       "</div>"
      ],
      "text/plain": [
       "   Number Company   TypeName  Inches                         Cpu  Ram  \\\n",
       "0       0   Apple  Ultrabook    13.3        Intel Core i5 2.3GHz    8   \n",
       "1       1   Apple  Ultrabook    13.3        Intel Core i5 1.8GHz    8   \n",
       "2       2      HP   Notebook    15.6  Intel Core i5 7200U 2.5GHz    8   \n",
       "3       3   Apple  Ultrabook    15.4        Intel Core i7 2.7GHz   16   \n",
       "4       4   Apple  Ultrabook    13.3        Intel Core i5 3.1GHz    8   \n",
       "\n",
       "                Memory                           Gpu  OpSys  Weight  ...   A8  \\\n",
       "0            128GB SSD  Intel Iris Plus Graphics 640  macOS    1.37  ...  0.0   \n",
       "1  128GB Flash Storage        Intel HD Graphics 6000  macOS    1.34  ...  0.0   \n",
       "2            256GB SSD         Intel HD Graphics 620  No OS    1.86  ...  0.0   \n",
       "3            512GB SSD            AMD Radeon Pro 455  macOS    1.83  ...  0.0   \n",
       "4            256GB SSD  Intel Iris Plus Graphics 650  macOS    1.37  ...  0.0   \n",
       "\n",
       "    A9  Celeron  Core i3 Core i5 Core i7 Pentium  Ryzen  Unknown  Xeon  \n",
       "0  0.0      0.0      0.0     2.3     0.0     0.0    0.0      0.0   0.0  \n",
       "1  0.0      0.0      0.0     1.8     0.0     0.0    0.0      0.0   0.0  \n",
       "2  0.0      0.0      0.0     2.5     0.0     0.0    0.0      0.0   0.0  \n",
       "3  0.0      0.0      0.0     0.0     2.7     0.0    0.0      0.0   0.0  \n",
       "4  0.0      0.0      0.0     3.1     0.0     0.0    0.0      0.0   0.0  \n",
       "\n",
       "[5 rows x 31 columns]"
      ]
     },
<<<<<<< HEAD
     "execution_count": 11,
=======
     "execution_count": 44,
>>>>>>> 2aa48f7c9b1ceef4006d1d815362e15f2853ff2d
     "metadata": {},
     "output_type": "execute_result"
    }
   ],
   "source": [
    "# Create dummy variables for each CPU type, multiplied by the CPU speed\n",
    "cpu_type_dummies = pd.get_dummies(df['CpuType'])\n",
    "for column in cpu_type_dummies.columns:\n",
    "    cpu_type_dummies[column] *= df['CpuSpeedGHz']\n",
    "\n",
    "# Add these new features to the original DataFrame\n",
    "data_with_cpu_speeds = pd.concat([df, cpu_type_dummies], axis=1)\n",
    "\n",
    "# Show the first few rows to check the new structure with CPU type and speed columns\n",
    "data_with_cpu_speeds.head()\n"
   ]
  },
  {
   "cell_type": "code",
<<<<<<< HEAD
   "execution_count": 12,
=======
   "execution_count": 45,
>>>>>>> 2aa48f7c9b1ceef4006d1d815362e15f2853ff2d
   "metadata": {},
   "outputs": [
    {
     "data": {
      "text/html": [
       "<div>\n",
       "<style scoped>\n",
       "    .dataframe tbody tr th:only-of-type {\n",
       "        vertical-align: middle;\n",
       "    }\n",
       "\n",
       "    .dataframe tbody tr th {\n",
       "        vertical-align: top;\n",
       "    }\n",
       "\n",
       "    .dataframe thead th {\n",
       "        text-align: right;\n",
       "    }\n",
       "</style>\n",
       "<table border=\"1\" class=\"dataframe\">\n",
       "  <thead>\n",
       "    <tr style=\"text-align: right;\">\n",
       "      <th></th>\n",
       "      <th>Gpu</th>\n",
       "      <th>GpuBrand</th>\n",
       "      <th>GpuModel</th>\n",
       "    </tr>\n",
       "  </thead>\n",
       "  <tbody>\n",
       "    <tr>\n",
       "      <th>0</th>\n",
       "      <td>Intel Iris Plus Graphics 640</td>\n",
       "      <td>Intel</td>\n",
       "      <td>Iris</td>\n",
       "    </tr>\n",
       "    <tr>\n",
       "      <th>1</th>\n",
       "      <td>Intel HD Graphics 6000</td>\n",
       "      <td>Intel</td>\n",
       "      <td>HD Graphics</td>\n",
       "    </tr>\n",
       "    <tr>\n",
       "      <th>2</th>\n",
       "      <td>Intel HD Graphics 620</td>\n",
       "      <td>Intel</td>\n",
       "      <td>HD Graphics</td>\n",
       "    </tr>\n",
       "    <tr>\n",
       "      <th>3</th>\n",
       "      <td>AMD Radeon Pro 455</td>\n",
       "      <td>AMD</td>\n",
       "      <td>Radeon</td>\n",
       "    </tr>\n",
       "    <tr>\n",
       "      <th>4</th>\n",
       "      <td>Intel Iris Plus Graphics 650</td>\n",
       "      <td>Intel</td>\n",
       "      <td>Iris</td>\n",
       "    </tr>\n",
       "  </tbody>\n",
       "</table>\n",
       "</div>"
      ],
      "text/plain": [
       "                            Gpu GpuBrand     GpuModel\n",
       "0  Intel Iris Plus Graphics 640    Intel         Iris\n",
       "1        Intel HD Graphics 6000    Intel  HD Graphics\n",
       "2         Intel HD Graphics 620    Intel  HD Graphics\n",
       "3            AMD Radeon Pro 455      AMD       Radeon\n",
       "4  Intel Iris Plus Graphics 650    Intel         Iris"
      ]
     },
<<<<<<< HEAD
     "execution_count": 12,
=======
     "execution_count": 45,
>>>>>>> 2aa48f7c9b1ceef4006d1d815362e15f2853ff2d
     "metadata": {},
     "output_type": "execute_result"
    }
   ],
   "source": [
    "def parse_gpu(gpu_str):\n",
    "    # Extract GPU brand\n",
    "    if \"Nvidia\" in gpu_str:\n",
    "        brand = \"Nvidia\"\n",
    "    elif \"AMD\" in gpu_str:\n",
    "        brand = \"AMD\"\n",
    "    elif \"Intel\" in gpu_str:\n",
    "        brand = \"Intel\"\n",
    "    else:\n",
    "        brand = \"Other\"\n",
    "\n",
    "    # Simplify GPU model by extracting general model types if available\n",
    "    model_match = re.search(r'(GeForce GTX|GeForce GT|Quadro|FirePro|Iris|HD Graphics|UHD Graphics|Radeon)', gpu_str)\n",
    "    model = model_match.group(1) if model_match else \"Unknown\"\n",
    "\n",
    "    return brand, model\n",
    "\n",
    "# Apply the function to the DataFrame\n",
    "df[['GpuBrand', 'GpuModel']] = df['Gpu'].apply(lambda x: pd.Series(parse_gpu(x)))\n",
    "\n",
    "# Check the results\n",
    "gpu_features_head = df[['Gpu', 'GpuBrand', 'GpuModel']].head()\n",
    "gpu_features_head\n"
   ]
  },
  {
   "cell_type": "code",
<<<<<<< HEAD
   "execution_count": 13,
=======
   "execution_count": 46,
>>>>>>> 2aa48f7c9b1ceef4006d1d815362e15f2853ff2d
   "metadata": {},
   "outputs": [
    {
     "name": "stdout",
     "output_type": "stream",
     "text": [
      "<class 'pandas.core.frame.DataFrame'>\n",
      "RangeIndex: 901 entries, 0 to 900\n",
      "Data columns (total 20 columns):\n",
      " #   Column              Non-Null Count  Dtype  \n",
      "---  ------              --------------  -----  \n",
      " 0   Number              901 non-null    int64  \n",
      " 1   Company             901 non-null    object \n",
      " 2   TypeName            901 non-null    object \n",
      " 3   Inches              901 non-null    float64\n",
      " 4   Cpu                 901 non-null    object \n",
      " 5   Ram                 901 non-null    int32  \n",
      " 6   Memory              901 non-null    object \n",
      " 7   Gpu                 901 non-null    object \n",
      " 8   OpSys               901 non-null    object \n",
      " 9   Weight              901 non-null    float32\n",
      " 10  Price               901 non-null    float64\n",
      " 11  ResolutionWidth     901 non-null    int64  \n",
      " 12  ResolutionHeight    901 non-null    int64  \n",
      " 13  TotalStorageGB      901 non-null    int64  \n",
      " 14  PrimaryStorageType  901 non-null    object \n",
      " 15  CpuBrand            901 non-null    object \n",
      " 16  CpuType             901 non-null    object \n",
      " 17  CpuSpeedGHz         901 non-null    float64\n",
      " 18  GpuBrand            901 non-null    object \n",
      " 19  GpuModel            901 non-null    object \n",
      "dtypes: float32(1), float64(3), int32(1), int64(4), object(11)\n",
      "memory usage: 133.9+ KB\n"
     ]
    }
   ],
   "source": [
    "df.info()"
   ]
  },
  {
   "cell_type": "code",
<<<<<<< HEAD
   "execution_count": 14,
   "metadata": {},
   "outputs": [
    {
     "name": "stderr",
     "output_type": "stream",
     "text": [
      "/Users/sanskrutiraut/anaconda3/lib/python3.11/site-packages/seaborn/axisgrid.py:118: UserWarning: The figure layout has changed to tight\n",
      "  self._figure.tight_layout(*args, **kwargs)\n"
     ]
    },
    {
     "data": {
      "text/plain": [
       "<seaborn.axisgrid.FacetGrid at 0x16b112150>"
      ]
     },
     "execution_count": 14,
=======
   "execution_count": 47,
   "metadata": {},
   "outputs": [
    {
     "data": {
      "text/plain": [
       "<seaborn.axisgrid.FacetGrid at 0x7fda440054f0>"
      ]
     },
     "execution_count": 47,
>>>>>>> 2aa48f7c9b1ceef4006d1d815362e15f2853ff2d
     "metadata": {},
     "output_type": "execute_result"
    },
    {
     "data": {
<<<<<<< HEAD
      "image/png": "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",
      "text/plain": [
       "<Figure size 500x500 with 1 Axes>"
      ]
     },
     "metadata": {},
=======
      "image/png": "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",
      "text/plain": [
       "<Figure size 360x360 with 1 Axes>"
      ]
     },
     "metadata": {
      "needs_background": "light"
     },
>>>>>>> 2aa48f7c9b1ceef4006d1d815362e15f2853ff2d
     "output_type": "display_data"
    }
   ],
   "source": [
    "sns.displot(df['Price'])"
   ]
  },
  {
   "cell_type": "code",
<<<<<<< HEAD
   "execution_count": 15,
   "metadata": {},
   "outputs": [
    {
     "name": "stderr",
     "output_type": "stream",
     "text": [
      "/Users/sanskrutiraut/anaconda3/lib/python3.11/site-packages/seaborn/axisgrid.py:118: UserWarning: The figure layout has changed to tight\n",
      "  self._figure.tight_layout(*args, **kwargs)\n"
     ]
    },
    {
     "data": {
      "text/plain": [
       "<seaborn.axisgrid.FacetGrid at 0x16c406190>"
      ]
     },
     "execution_count": 15,
=======
   "execution_count": 48,
   "metadata": {},
   "outputs": [
    {
     "data": {
      "text/plain": [
       "<seaborn.axisgrid.FacetGrid at 0x7fda6146ab50>"
      ]
     },
     "execution_count": 48,
>>>>>>> 2aa48f7c9b1ceef4006d1d815362e15f2853ff2d
     "metadata": {},
     "output_type": "execute_result"
    },
    {
     "data": {
<<<<<<< HEAD
      "image/png": "iVBORw0KGgoAAAANSUhEUgAAAeoAAAHpCAYAAABN+X+UAAAAOXRFWHRTb2Z0d2FyZQBNYXRwbG90bGliIHZlcnNpb24zLjcuMiwgaHR0cHM6Ly9tYXRwbG90bGliLm9yZy8pXeV/AAAACXBIWXMAAA9hAAAPYQGoP6dpAAAqUUlEQVR4nO3df1iUdb7/8ddkOoKLpGIMGAgWgmY/zMzUVuiYuO7a1uU5x1rS3LUf7vFXLGfTPFai5wTpFnElaZdnN/Xkces6l1ZenbbEMtLFk+SPUhYtr0Uxg8OZIgYF+Xl///DrbCiowD3MZ+D5uK65ruaemQ/ve++9rqc3M8ztsCzLEgAAMNJV/h4AAAC0jlADAGAwQg0AgMEINQAABiPUAAAYjFADAGAwQg0AgMEItSTLsuTxeMSflAMATEOoJVVVVSk0NFRVVVX+HgUAgGYINQAABiPUAAAYjFADAGAwQg0AgMEINQAABiPUAAAYjFADAGAwQg0AgMEINQAABiPUAAAYjFADAGAwQg0AgMEINQAABiPUAAAYjFADAGAwQg0AgMEINQAABiPUAAAY7Gp/DwDAHiUlJXK73batFxYWpujoaNvWA9A+hBroAkpKSpSQMEw1NdW2rRkUFKwjR4qINeBnhBroAtxut2pqqjVm9jL1jYjp8Hqe0uP69LXlcrvdhBrwM0INdCF9I2LUPzre32MAsBEfJgMAwGCEGgAAgxFqAAAMRqgBADAYoQYAwGCEGgAAgxFqAAAMRqgBADAYoQYAwGCEGgAAgxFqAAAMRqgBADAYoQYAwGB+DfUnn3yie++9V5GRkXI4HHr77bebPW5ZltLT0xUZGamgoCAlJSWpsLCw2XNqa2u1YMEChYWFqU+fPvr5z3+ur7/+uhP3AgAA3/FrqM+cOaNbbrlFOTk5LT6+atUqZWVlKScnRwUFBXK5XJo0aZKqqqq8z0lNTdVbb72lN954Q7t379bp06c1depUNTY2dtZuAADgM369HvWUKVM0ZcqUFh+zLEvZ2dlaunSppk2bJknauHGjwsPDtXnzZs2ZM0eVlZX6wx/+oNdff1333HOPJGnTpk2KiorSjh07NHny5E7bFwAAfMHY96iLi4tVVlam5ORk7zan06nExETl5+dLkvbt26f6+vpmz4mMjNSIESO8z2lJbW2tPB5PsxsAACYyNtRlZWWSpPDw8Gbbw8PDvY+VlZWpV69e6tevX6vPaUlmZqZCQ0O9t6ioKJunBwDAHsaG+jyHw9HsvmVZF2270OWes2TJElVWVnpvJ0+etGVWAADsZmyoXS6XJF10ZlxeXu49y3a5XKqrq1NFRUWrz2mJ0+lU3759m90AADCRXz9MdimxsbFyuVzKzc3VyJEjJUl1dXXKy8vTypUrJUmjRo1Sz549lZubq+nTp0uSSktLdfjwYa1atcpvswNdRVFRkW1rhYWFKTo62rb1gO7Cr6E+ffq0jh075r1fXFysgwcPqn///oqOjlZqaqoyMjIUFxenuLg4ZWRkKDg4WCkpKZKk0NBQPfLII/rnf/5nDRgwQP3799dvf/tb3XTTTd5PgQNou5rKbyU5NGPGDNvWDAoK1pEjRcQaaCO/hvqzzz7T3Xff7b2flpYmSZo1a5Y2bNigRYsWqaamRnPnzlVFRYXGjBmj7du3KyQkxPual156SVdffbWmT5+umpoaTZw4URs2bFCPHj06fX+ArqK+ukqSpVtTFmtgbEKH1/OUHtenry2X2+0m1EAb+TXUSUlJsiyr1ccdDofS09OVnp7e6nN69+6t1atXa/Xq1T6YEOjefnRttPpHx/t7DKBbM/bDZAAAgFADAGA0Qg0AgMEINQAABiPUAAAYjFADAGAwQg0AgMGM/QpRAF0PX0kKtB2hBuBzfCUp0H6EGoDP8ZWkQPsRagCdhq8kBdqOD5MBAGAwQg0AgMEINQAABiPUAAAYjFADAGAwQg0AgMEINQAABiPUAAAYjFADAGAwQg0AgMEINQAABiPUAAAYjFADAGAwQg0AgMEINQAABiPUAAAYjFADAGAwQg0AgMEINQAABiPUAAAYjFADAGAwQg0AgMEINQAABiPUAAAYjFADAGAwQg0AgMEINQAABiPUAAAYjFADAGAwQg0AgMEINQAABiPUAAAYjFADAGAwQg0AgMEINQAABiPUAAAYjFADAGAwQg0AgMEINQAABiPUAAAYjFADAGAwQg0AgMEINQAABrva3wMA3VVJSYncbrctaxUVFdmyDgDzEGrAD0pKSpSQMEw1NdW2rltfW2fregD8j1ADfuB2u1VTU60xs5epb0RMh9crPbRHh7etU0NDQ8eHA2AUQg34Ud+IGPWPju/wOp7S4x0fBoCR+DAZAAAGI9QAABiMUAMAYDBCDQCAwQg1AAAGI9QAABiMUAMAYDBCDQCAwQg1AAAGMzrUDQ0NevrppxUbG6ugoCANGTJEK1asUFNTk/c5lmUpPT1dkZGRCgoKUlJSkgoLC/04NQAA9jE61CtXrtSrr76qnJwcFRUVadWqVfrd736n1atXe5+zatUqZWVlKScnRwUFBXK5XJo0aZKqqqr8ODkAAPYw+ru+9+zZo/vuu08/+9nPJEkxMTH64x//qM8++0zSubPp7OxsLV26VNOmTZMkbdy4UeHh4dq8ebPmzJnT4rq1tbWqra313vd4PD7eE3QVdl2akstSArhSRof6rrvu0quvvqovv/xSQ4cO1eeff67du3crOztbklRcXKyysjIlJyd7X+N0OpWYmKj8/PxWQ52Zmanly5d3xi6gC/HFpSm5LCWAyzE61IsXL1ZlZaUSEhLUo0cPNTY26rnnntMvfvELSVJZWZkkKTw8vNnrwsPDdeLEiVbXXbJkidLS0rz3PR6PoqKifLAH6ErsvDQll6UEcKWMDvWbb76pTZs2afPmzbrxxht18OBBpaamKjIyUrNmzfI+z+FwNHudZVkXbfshp9Mpp9Pps7nRtdlxaUouSwngShkd6ieffFJPPfWUHnzwQUnSTTfdpBMnTigzM1OzZs2Sy+WSdO7MOiIiwvu68vLyi86yAQAIREZ/6ru6ulpXXdV8xB49enj/PCs2NlYul0u5ubnex+vq6pSXl6dx48Z16qwAAPiC0WfU9957r5577jlFR0frxhtv1IEDB5SVlaXZs2dLOvcr79TUVGVkZCguLk5xcXHKyMhQcHCwUlJS/Dw9AAAdZ3SoV69erWeeeUZz585VeXm5IiMjNWfOHD377LPe5yxatEg1NTWaO3euKioqNGbMGG3fvl0hISF+nBwAAHsYHeqQkBBlZ2d7/xyrJQ6HQ+np6UpPT++0uQAA6CxGv0cNAEB3R6gBADAYoQYAwGCEGgAAgxFqAAAMRqgBADAYoQYAwGBG/x01AHQGu64zfl5YWJiio6NtWw/dG6EG0K354jrjQUHBOnKkiFjDFoQaQLdm53XGpXOXMP30teVyu92EGrYg1AAge64zDvgCHyYDAMBghBoAAIMRagAADEaoAQAwGKEGAMBghBoAAIMRagAADEaoAQAwGKEGAMBghBoAAIMRagAADEaoAQAwGKEGAMBghBoAAIMRagAADEaoAQAwGKEGAMBghBoAAIMRagAADEaoAQAwGKEGAMBghBoAAIMRagAADEaoAQAwGKEGAMBghBoAAIMRagAADEaoAQAwGKEGAMBghBoAAIMRagAADEaoAQAwGKEGAMBghBoAAIMRagAADEaoAQAwGKEGAMBghBoAAIMRagAADEaoAQAwGKEGAMBghBoAAINd7e8BAKC9ioqKjFgD8CVCDSDg1FR+K8mhGTNm2LZmfW2dbWsBdiLUAAJOfXWVJEu3pizWwNiEDq1VemiPDm9bp4aGBnuGA2xGqAEErB9dG63+0fEdWsNTetyeYQAf4cNkAAAYjFADAGAwQg0AgMEINQAABiPUAAAYjFADAGAwQg0AgMEINQAABiPUAAAYzPhQnzp1SjNmzNCAAQMUHBysW2+9Vfv27fM+blmW0tPTFRkZqaCgICUlJamwsNCPEwMAYB+jQ11RUaHx48erZ8+e+tOf/qS//OUvevHFF3XNNdd4n7Nq1SplZWUpJydHBQUFcrlcmjRpkqqqqvw3OAAANjH6u75XrlypqKgorV+/3rstJibG+9+WZSk7O1tLly7VtGnTJEkbN25UeHi4Nm/erDlz5rS4bm1trWpra733PR6Pb3YAfldSUiK3223LWlwOEYA/GB3qbdu2afLkyfrHf/xH5eXladCgQZo7d64ee+wxSVJxcbHKysqUnJzsfY3T6VRiYqLy8/NbDXVmZqaWL1/eKfsA/ykpKVFCwjDV1FTbui6XQwTQmYwO9V//+letXbtWaWlp+pd/+Rft3btXCxculNPp1MMPP6yysjJJUnh4eLPXhYeH68SJE62uu2TJEqWlpXnvezweRUVF+WYn4Ddut1s1NdUaM3uZ+kbEdHg9LocIwB/aFeohQ4aooKBAAwYMaLb9+++/12233aa//vWvtgzX1NSk22+/XRkZGZKkkSNHqrCwUGvXrtXDDz/sfZ7D4Wj2OsuyLtr2Q06nU06n05YZYb6+ETEdvhSixOUQAfhHu0J9/PhxNTY2XrS9trZWp06d6vBQ50VERGj48OHNtg0bNkxbtmyRJLlcLklSWVmZIiIivM8pLy+/6CwbgYH3lAGguTaFetu2bd7//uCDDxQaGuq939jYqA8//LDZh706avz48Tp69GizbV9++aUGDx4sSYqNjZXL5VJubq5GjhwpSaqrq1NeXp5Wrlxp2xzoHLynDAAXa1Oo77//fknnftU8a9asZo/17NlTMTExevHFF20b7je/+Y3GjRunjIwMTZ8+XXv37tW6deu0bt067xypqanKyMhQXFyc4uLilJGRoeDgYKWkpNg2BzoH7ykDwMXaFOqmpiZJ585kCwoKFBYW5pOhzhs9erTeeustLVmyRCtWrFBsbKyys7P10EMPeZ+zaNEi1dTUaO7cuaqoqNCYMWO0fft2hYSE+HQ2+A7vKQPA37TrPeri4mK752jV1KlTNXXq1FYfdzgcSk9PV3p6eqfNBABAZ2n3n2d9+OGH+vDDD1VeXu490z7vtdde6/BgAACgnaFevny5VqxYodtvv10RERGX/FMoAADQfu0K9auvvqoNGzZo5syZds8DAAB+oF0X5airq9O4cePsngUAAFygXaF+9NFHtXnzZrtnAQAAF2jXr77Pnj2rdevWaceOHbr55pvVs2fPZo9nZWXZMhwAAN1du0L9xRdf6NZbb5UkHT58uNljfLAMAAD7tCvUO3futHsOAADQgna9Rw0AADpHu86o77777kv+ivujjz5q90AAAOBv2hXq8+9Pn1dfX6+DBw/q8OHDF12sAwAAtF+7Qv3SSy+1uD09PV2nT5/u0EAAAOBvbH2PesaMGXzPNwAANrI11Hv27FHv3r3tXBIAgG6tXb/6njZtWrP7lmWptLRUn332mZ555hlbBgMAAO0MdWhoaLP7V111leLj47VixQolJyfbMhgAAGhnqNevX2/3HAAAoAXtCvV5+/btU1FRkRwOh4YPH66RI0faNRcAAFA7Q11eXq4HH3xQH3/8sa655hpZlqXKykrdfffdeuONNzRw4EC75wQAoFtq16e+FyxYII/Ho8LCQn333XeqqKjQ4cOH5fF4tHDhQrtnBACg22rXGfX777+vHTt2aNiwYd5tw4cP1yuvvMKHyQAAsFG7zqibmpouuga1JPXs2VNNTU0dHgoAAJzTrlD/3d/9nZ544gl988033m2nTp3Sb37zG02cONG24QAA6O7aFeqcnBxVVVUpJiZG119/vW644QbFxsaqqqpKq1evtntGAAC6rXa9Rx0VFaX9+/crNzdXR44ckWVZGj58uO655x675wMAoFtr0xn1Rx99pOHDh8vj8UiSJk2apAULFmjhwoUaPXq0brzxRu3atcsngwIA0B21KdTZ2dl67LHH1Ldv34seCw0N1Zw5c5SVlWXbcAAAdHdtCvXnn3+un/zkJ60+npycrH379nV4KAAAcE6bQv2///u/Lf5Z1nlXX321/u///q/DQwEAgHPaFOpBgwbp0KFDrT7+xRdfKCIiosNDAQCAc9oU6p/+9Kd69tlndfbs2Yseq6mp0bJlyzR16lTbhgMAoLtr059nPf3009q6dauGDh2q+fPnKz4+Xg6HQ0VFRXrllVfU2NiopUuX+mpWAAC6nTaFOjw8XPn5+fqnf/onLVmyRJZlSZIcDocmT56sNWvWKDw83CeDAgDQHbX5C08GDx6s9957TxUVFTp27Jgsy1JcXJz69evni/kAAOjW2vXNZJLUr18/jR492s5ZAADABdr1Xd8AAKBzEGoAAAxGqAEAMBihBgDAYIQaAACDEWoAAAxGqAEAMBihBgDAYIQaAACDEWoAAAxGqAEAMBihBgDAYIQaAACDEWoAAAxGqAEAMBihBgDAYIQaAACDEWoAAAxGqAEAMBihBgDAYIQaAACDEWoAAAxGqAEAMBihBgDAYIQaAACDEWoAAAx2tb8HAICuqKioyLa1wsLCFB0dbdt6CCyEGgBsVFP5rSSHZsyYYduaQUHBOnKkiFh3U4QaAGxUX10lydKtKYs1MDahw+t5So/r09eWy+12E+puilADgA/86Npo9Y+O9/cY6AL4MBkAAAYLqFBnZmbK4XAoNTXVu82yLKWnpysyMlJBQUFKSkpSYWGh/4YEAMBGARPqgoICrVu3TjfffHOz7atWrVJWVpZycnJUUFAgl8ulSZMmqaqqyk+TAgBgn4AI9enTp/XQQw/p3//939WvXz/vdsuylJ2draVLl2ratGkaMWKENm7cqOrqam3evNmPEwMAYI+ACPW8efP0s5/9TPfcc0+z7cXFxSorK1NycrJ3m9PpVGJiovLz81tdr7a2Vh6Pp9kNAAATGf+p7zfeeEP79+9XQUHBRY+VlZVJksLDw5ttDw8P14kTJ1pdMzMzU8uXL7d3UAAAfMDoM+qTJ0/qiSee0KZNm9S7d+9Wn+dwOJrdtyzrom0/tGTJElVWVnpvJ0+etG1mAADsZPQZ9b59+1ReXq5Ro0Z5tzU2NuqTTz5RTk6Ojh49KuncmXVERIT3OeXl5RedZf+Q0+mU0+n03eAAANjE6FBPnDhRhw4darbtV7/6lRISErR48WINGTJELpdLubm5GjlypCSprq5OeXl5WrlypT9G7nZKSkrkdrttWcvO70YGgK7C6FCHhIRoxIgRzbb16dNHAwYM8G5PTU1VRkaG4uLiFBcXp4yMDAUHByslJcUfI3crJSUlSkgYppqaalvXra+ts3U9AAhkRof6SixatEg1NTWaO3euKioqNGbMGG3fvl0hISH+Hq3Lc7vdqqmp1pjZy9Q3IqbD65Ue2qPD29apoaGh48MBQBcRcKH++OOPm913OBxKT09Xenq6X+aB1DcixpbvNPaUHu/4MADQxRj9qW8AALo7Qg0AgMEINQAABiPUAAAYjFADAGAwQg0AgMEINQAABiPUAAAYjFADAGAwQg0AgMEINQAABiPUAAAYjFADAGAwQg0AgMEINQAABiPUAAAYjFADAGAwQg0AgMEINQAABiPUAAAYjFADAGAwQg0AgMEINQAABiPUAAAYjFADAGAwQg0AgMEINQAABiPUAAAYjFADAGAwQg0AgMEINQAABrva3wMAAC6vqKjItrXCwsIUHR1t23rwLUINAAarqfxWkkMzZsywbc2goGAdOVJErAMEoQYAg9VXV0mydGvKYg2MTejwep7S4/r0teVyu92EOkAQagAIAD+6Nlr9o+P9PQb8gA+TAQBgMEINAIDBCDUAAAYj1AAAGIxQAwBgMEINAIDBCDUAAAYj1AAAGIxQAwBgMEINAIDBCDUAAAbju767mZKSErndblvWsvOyewCAlhHqbqSkpEQJCcNUU1Nt67r1tXW2rgcA+BtC3Y243W7V1FRrzOxl6hsR0+H1Sg/t0eFt69TQ0NDx4QAALSLU3VDfiBhbLpfnKT3e8WEAAJfEh8kAADAYoQYAwGCEGgAAgxFqAAAMRqgBADAYoQYAwGCEGgAAgxFqAAAMRqgBADAYoQYAwGCEGgAAgxFqAAAMRqgBADAYoQYAwGCEGgAAgxFqAAAMRqgBADCY0aHOzMzU6NGjFRISomuvvVb333+/jh492uw5lmUpPT1dkZGRCgoKUlJSkgoLC/00MQAA9jI61Hl5eZo3b57+53/+R7m5uWpoaFBycrLOnDnjfc6qVauUlZWlnJwcFRQUyOVyadKkSaqqqvLj5AAA2ONqfw9wKe+//36z++vXr9e1116rffv2acKECbIsS9nZ2Vq6dKmmTZsmSdq4caPCw8O1efNmzZkzp8V1a2trVVtb673v8Xh8txM2KCkpkdvt7vA6RUVFNkwDAOhMRof6QpWVlZKk/v37S5KKi4tVVlam5ORk73OcTqcSExOVn5/faqgzMzO1fPly3w9sg5KSEiUkDFNNTbVta9bX1tm2FgDAtwIm1JZlKS0tTXfddZdGjBghSSorK5MkhYeHN3tueHi4Tpw40epaS5YsUVpamve+x+NRVFSUD6buOLfbrZqaao2ZvUx9I2I6tFbpoT06vG2dGhoa7BkOAOBzARPq+fPn64svvtDu3bsveszhcDS7b1nWRdt+yOl0yul02j6jL/WNiFH/6PgOreEpPW7PMACATmP0h8nOW7BggbZt26adO3fquuuu8253uVyS/nZmfV55eflFZ9kAAAQio0NtWZbmz5+vrVu36qOPPlJsbGyzx2NjY+VyuZSbm+vdVldXp7y8PI0bN66zxwUAwHZG/+p73rx52rx5s9555x2FhIR4z5xDQ0MVFBQkh8Oh1NRUZWRkKC4uTnFxccrIyFBwcLBSUlL8PD0AAB1ndKjXrl0rSUpKSmq2ff369frlL38pSVq0aJFqamo0d+5cVVRUaMyYMdq+fbtCQkI6eVoAAOxndKgty7rscxwOh9LT05Wenu77gQAA6GRGv0cNAEB3R6gBADAYoQYAwGCEGgAAgxFqAAAMRqgBADAYoQYAwGCEGgAAgxFqAAAMRqgBADAYoQYAwGCEGgAAgxFqAAAMRqgBADAYoQYAwGCEGgAAgxFqAAAMRqgBADAYoQYAwGCEGgAAgxFqAAAMRqgBADAYoQYAwGCEGgAAgxFqAAAMRqgBADAYoQYAwGCEGgAAgxFqAAAMRqgBADAYoQYAwGCEGgAAgxFqAAAMRqgBADAYoQYAwGCEGgAAgxFqAAAMRqgBADDY1f4eAADQ+YqKimxbKywsTNHR0bath+YINQB0IzWV30pyaMaMGbatGRQUrCNHioi1jxBqAOhG6qurJFm6NWWxBsYmdHg9T+lxffracrndbkLtI4QaALqhH10brf7R8f4eA1eAD5MBAGAwQg0AgMEINQAABuM9ah8oKSmR2+22ZS07/4QCABB4CLXNSkpKlJAwTDU11bauW19bZ+t6AIDAQKht5na7VVNTrTGzl6lvREyH1ys9tEeHt61TQ0NDx4cDAAQcQu0jfSNibPnTB0/p8Y4PAwAIWHyYDAAAgxFqAAAMRqgBADAYoQYAwGCEGgAAgxFqAAAMRqgBADAYoQYAwGB84QkAoMPsvC5BWFiYoqOjbVsv0BFqAEC71VR+K8mhGTNm2LZmUFCwjhwpItb/H6EGALRbfXWVJEu3pizWwNiEDq/nKT2uT19bLrfbTaj/P0INAOiwH10bbcv1DXAxQg0AMI5d73nX1tbK6XTaspbkn/fPCTUAwBi2v+ftcEiWZc9a8s/754QaAGAMO9/zLj20R4e3rQv4988JNQDAOHa85+0pPW7bWv7EF54AAGCwLhPqNWvWKDY2Vr1799aoUaO0a9cuf48EAECHdYlQv/nmm0pNTdXSpUt14MAB/fjHP9aUKVNUUlLi79EAAOiQLhHqrKwsPfLII3r00Uc1bNgwZWdnKyoqSmvXrvX3aAAAdEjAf5isrq5O+/bt01NPPdVse3JysvLz81t8TW1trWpra733KysrJUkej6fD85w+fVqS9N2Jo2qorenwep7SE5KkylNfqefVDmPWYj2ORVdZz+TZWM+wY1t27re0p0+ftqUXkhQSEiKH4zKzWQHu1KlTliTrz3/+c7Ptzz33nDV06NAWX7Ns2TJLEjdu3Lhx4+bXW2Vl5WU7F/Bn1Odd+C8Sy7Ja/VfKkiVLlJaW5r3f1NSk7777TgMGDLj8v2wM5PF4FBUVpZMnT6pv377+Hsc2XXW/pK67b111v6Suu2/sl3+FhIRc9jkBH+qwsDD16NFDZWVlzbaXl5crPDy8xdc4nc6LvlLummuu8dWInaZv375G/x+yvbrqfkldd9+66n5JXXff2C9zBfyHyXr16qVRo0YpNze32fbc3FyNGzfOT1MBAGCPgD+jlqS0tDTNnDlTt99+u8aOHat169appKREv/71r/09GgAAHdIlQv3AAw/o22+/1YoVK1RaWqoRI0bovffe0+DBg/09WqdwOp1atmyZrVeIMUFX3S+p6+5bV90vqevuG/tlPodl2XhZEQAAYKuAf48aAICujFADAGAwQg0AgMEINQAABiPUAaCqqkqpqakaPHiwgoKCNG7cOBUUFLT6/I8//lgOh+Oi25EjRzpx6uY++eQT3XvvvYqMjJTD4dDbb7/d7HHLspSenq7IyEgFBQUpKSlJhYWFl113y5YtGj58uJxOp4YPH6633nrLR3vQOl/s24YNG1o8hmfPnvXhnjR3uf3aunWrJk+erLCwMDkcDh08ePCK1g2EY9aefTP9mNXX12vx4sW66aab1KdPH0VGRurhhx/WN998c9l1/X3MfLFfJhyvK0WoA8Cjjz6q3Nxcvf766zp06JCSk5N1zz336NSpU5d83dGjR1VaWuq9xcXFddLEFztz5oxuueUW5eTktPj4qlWrlJWVpZycHBUUFMjlcmnSpEmqqqpqdc09e/bogQce0MyZM/X5559r5syZmj59uj799FNf7UaLfLFv0rlvVPrh8SstLVXv3r19sQstutx+nTlzRuPHj9fzzz9/xWsGyjFrz75JZh+z6upq7d+/X88884z279+vrVu36ssvv9TPf/7zS65pwjHzxX5J/j9eV6yjF8WAb1VXV1s9evSw3n333Wbbb7nlFmvp0qUtvmbnzp2WJKuioqITJmw7SdZbb73lvd/U1GS5XC7r+eef9247e/asFRoaar366qutrjN9+nTrJz/5SbNtkydPth588EHbZ75Sdu3b+vXrrdDQUB9O2jYX7tcPFRcXW5KsAwcOXHadQDhmP9SWfQukY3be3r17LUnWiRMnWn2OacfMrv0y7XhdCmfUhmtoaFBjY+NF/8oLCgrS7t27L/nakSNHKiIiQhMnTtTOnTt9OWaHFBcXq6ysTMnJyd5tTqdTiYmJrV6qVDr3L/0fvkaSJk+efMnXdLb27pt07lJ6gwcP1nXXXaepU6fqwIEDvh7X5wLhmHVEoB2zyspKORyOS17rIBCP2ZXslxQ4x4tQGy4kJERjx47Vv/7rv+qbb75RY2OjNm3apE8//VSlpaUtviYiIkLr1q3Tli1btHXrVsXHx2vixIn65JNPOnn6K3P+gioXXkQlPDz8ooutXPi6tr6ms7V33xISErRhwwZt27ZNf/zjH9W7d2+NHz9eX331lU/n9bVAOGbtFWjH7OzZs3rqqaeUkpJyyYtWBNoxu9L9CqTj1SW+QrSre/311zV79mwNGjRIPXr00G233aaUlBTt37+/xefHx8crPj7ee3/s2LE6efKkXnjhBU2YMKGzxm6ztlyqtCOv8Ye2znnnnXfqzjvv9N4fP368brvtNq1evVovv/yyz+bsDIFyzNoqkI5ZfX29HnzwQTU1NWnNmjWXfX6gHLO27FcgHS/OqAPA9ddfr7y8PJ0+fVonT57U3r17VV9fr9jY2Cte48477zTyX4qS5HK5JKlNlyo9/7q2vqaztXffLnTVVVdp9OjRxh7DKxUIx8wuph6z+vp6TZ8+XcXFxcrNzb3sJSAD5Zi1db8uZOrxkgh1QOnTp48iIiJUUVGhDz74QPfdd98Vv/bAgQOKiIjw4XTtFxsbK5fL1exSpXV1dcrLy7vkpUrHjh170eVNt2/fbtTlTdu7bxeyLEsHDx409hheqUA4ZnYx8Zidj9lXX32lHTt2aMCAAZd9TSAcs/bs14VMPF7n8avvAPDBBx/IsizFx8fr2LFjevLJJxUfH69f/epXkqQlS5bo1KlT+o//+A9JUnZ2tmJiYnTjjTeqrq5OmzZt0pYtW7Rlyxa/7cPp06d17Ngx7/3i4mIdPHhQ/fv3V3R0tFJTU5WRkaG4uDjFxcUpIyNDwcHBSklJ8b7m4Ycf1qBBg5SZmSlJeuKJJzRhwgStXLlS9913n9555x3t2LHjsh+yC4R9W758ue68807FxcXJ4/Ho5Zdf1sGDB/XKK68Ys1/fffedSkpKvH+vevToUUnnzsDO/yYhUI9Ze/bN9GMWGRmpf/iHf9D+/fv17rvvqrGx0Xum3L9/f/Xq1avF/TLhmPliv0w4XlfMb583xxV78803rSFDhli9evWyXC6XNW/ePOv777/3Pj5r1iwrMTHRe3/lypXW9ddfb/Xu3dvq16+fddddd1n//d//7YfJ/+b8n4xdeJs1a5ZlWef+jGnZsmWWy+WynE6nNWHCBOvQoUPN1khMTPQ+/7z/+q//suLj462ePXtaCQkJ1pYtWzppj/7GF/uWmppqRUdHW7169bIGDhxoJScnW/n5+Z24V5ffr/Xr17f4+LJly1rdL8sKjGPWnn0z/Zid/1Ozlm47d+5sdb8sy//HzBf7ZcLxulJc5hIAAIPxHjUAAAYj1AAAGIxQAwBgMEINAIDBCDUAAAYj1AAAGIxQAwBgMEINAIDBCDWAThcTE6Ps7Gx/jwEEBEINBLhf/vKXuv/++/3ys5OSkuRwOORwOOR0OjV06FBlZGSosbHxkq8rKCjQ448/3klTAoGNUAPokMcee0ylpaU6evSoFi5cqKefflovvPBCi8+tq6uTJA0cOFDBwcGdOSYQsAg10IXl5eXpjjvukNPpVEREhJ566ik1NDR4H6+qqtJDDz3kvYTqSy+9pKSkJKWmpl7xzwgODpbL5VJMTIzmz5+viRMn6u2335b0t7P9zMxMRUZGaujQoZIu/tX3999/r8cff1zh4eHq3bu3RowYoXfffdf7eH5+viZMmKCgoCBFRUVp4cKFOnPmTIf+twECBaEGuqhTp07ppz/9qUaPHq3PP/9ca9eu1R/+8Af927/9m/c5aWlp+vOf/6xt27YpNzdXu3bt0v79+zv0c4OCglRfX++9/+GHH6qoqEi5ubnN4nteU1OTpkyZovz8fG3atEl/+ctf9Pzzz6tHjx6SpEOHDmny5MmaNm2avvjiC7355pvavXu35s+f36E5gUDB9aiBLmrNmjWKiopSTk6OHA6HEhIS9M0332jx4sV69tlndebMGW3cuFGbN2/WxIkTJUnr169XZGRku35eU1OTtm/frg8++KDZGXmfPn30+9//3ntd4Avt2LFDe/fuVVFRkfeMe8iQId7Hf/e73yklJcW7ZlxcnF5++WUlJiZq7dq16t27d7vmBQIFoQa6qKKiIo0dO1YOh8O7bfz48Tp9+rS+/vprVVRUqL6+XnfccYf38dDQUMXHx7fp56xZs0a///3vve8/z5w5U8uWLfM+ftNNN7UaaUk6ePCgrrvuOm+kL7Rv3z4dO3ZM//mf/+ndZlmWmpqaVFxcrGHDhrVpXiDQEGqgi7Isq1mkz2+TJIfD0ey/W3rOlXrooYe0dOlSOZ1ORUZGen9lfV6fPn0u+fqgoKBLPt7U1KQ5c+Zo4cKFFz0WHR3dplmBQESogS5q+PDh2rJlS7Ng5+fnKyQkRIMGDdI111yjnj17au/evYqKipIkeTweffXVV0pMTLzinxMaGqobbrih3XPefPPN+vrrr/Xll1+2eFZ92223qbCwsEM/AwhkfJgM6AIqKyt18ODBZrfHH39cJ0+e1IIFC3TkyBG98847WrZsmdLS0nTVVVcpJCREs2bN0pNPPqmdO3eqsLBQs2fP1lVXXXXRWbYvJSYmasKECfr7v/975ebmqri4WH/605/0/vvvS5IWL16sPXv2aN68eTp48KC++uorbdu2TQsWLOi0GQF/4owa6AI+/vhjjRw5stm2WbNm6b333tOTTz6pW265Rf3799cjjzyip59+2vucrKws/frXv9bUqVPVt29fLVq0SCdPnuz0D2ht2bJFv/3tb/WLX/xCZ86c0Q033KDnn39e0rkz7ry8PC1dulQ//vGPZVmWrr/+ej3wwAOdOiPgLw6rrW9IAeiyzpw5o0GDBunFF1/UI4884u9xAIgzaqBbO3DggI4cOaI77rhDlZWVWrFihSTpvvvu8/NkAM4j1EA398ILL+jo0aPq1auXRo0apV27diksLEy7du3SlClTWn3d6dOnO3FKoPviV98AWlRTU6NTp061+jifwgY6B6EGAMBg/HkWAAAGI9QAABiMUAMAYDBCDQCAwQg1AAAGI9QAABiMUAMAYLD/B4tL5Fmq0pG9AAAAAElFTkSuQmCC",
      "text/plain": [
       "<Figure size 500x500 with 1 Axes>"
      ]
     },
     "metadata": {},
=======
      "image/png": "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",
      "text/plain": [
       "<Figure size 360x360 with 1 Axes>"
      ]
     },
     "metadata": {
      "needs_background": "light"
     },
>>>>>>> 2aa48f7c9b1ceef4006d1d815362e15f2853ff2d
     "output_type": "display_data"
    }
   ],
   "source": [
    "df['Log_Price'] = np.log(df['Price'])\n",
    "sns.displot(df['Log_Price'])"
   ]
  },
  {
   "cell_type": "code",
<<<<<<< HEAD
   "execution_count": 16,
=======
   "execution_count": 49,
>>>>>>> 2aa48f7c9b1ceef4006d1d815362e15f2853ff2d
   "metadata": {},
   "outputs": [],
   "source": [
    "from sklearn.model_selection import train_test_split\n",
    "from sklearn.preprocessing import StandardScaler, OneHotEncoder\n",
    "from sklearn.compose import ColumnTransformer\n",
    "from sklearn.pipeline import Pipeline\n",
    "from sklearn.svm import SVR\n",
    "from sklearn.metrics import mean_squared_error\n",
    "from sklearn.impute import SimpleImputer"
   ]
  },
  {
   "cell_type": "code",
<<<<<<< HEAD
   "execution_count": 17,
=======
   "execution_count": 50,
>>>>>>> 2aa48f7c9b1ceef4006d1d815362e15f2853ff2d
   "metadata": {},
   "outputs": [],
   "source": [
    "X_train = df.drop(['Price', 'Number', 'Log_Price'], axis=1)  # Drop 'Price' which is the target and 'Number' which is just an index\n",
    "y_train = df['Log_Price']"
   ]
  },
  {
   "cell_type": "code",
<<<<<<< HEAD
   "execution_count": 18,
=======
   "execution_count": 51,
>>>>>>> 2aa48f7c9b1ceef4006d1d815362e15f2853ff2d
   "metadata": {},
   "outputs": [
    {
     "data": {
      "text/html": [
       "<div>\n",
       "<style scoped>\n",
       "    .dataframe tbody tr th:only-of-type {\n",
       "        vertical-align: middle;\n",
       "    }\n",
       "\n",
       "    .dataframe tbody tr th {\n",
       "        vertical-align: top;\n",
       "    }\n",
       "\n",
       "    .dataframe thead th {\n",
       "        text-align: right;\n",
       "    }\n",
       "</style>\n",
       "<table border=\"1\" class=\"dataframe\">\n",
       "  <thead>\n",
       "    <tr style=\"text-align: right;\">\n",
       "      <th></th>\n",
       "      <th>Company</th>\n",
       "      <th>TypeName</th>\n",
       "      <th>Inches</th>\n",
       "      <th>Cpu</th>\n",
       "      <th>Ram</th>\n",
       "      <th>Memory</th>\n",
       "      <th>Gpu</th>\n",
       "      <th>OpSys</th>\n",
       "      <th>Weight</th>\n",
       "      <th>ResolutionWidth</th>\n",
       "      <th>ResolutionHeight</th>\n",
       "      <th>TotalStorageGB</th>\n",
       "      <th>PrimaryStorageType</th>\n",
       "      <th>CpuBrand</th>\n",
       "      <th>CpuType</th>\n",
       "      <th>CpuSpeedGHz</th>\n",
       "      <th>GpuBrand</th>\n",
       "      <th>GpuModel</th>\n",
       "    </tr>\n",
       "  </thead>\n",
       "  <tbody>\n",
       "    <tr>\n",
       "      <th>0</th>\n",
       "      <td>Apple</td>\n",
       "      <td>Ultrabook</td>\n",
       "      <td>13.3</td>\n",
       "      <td>Intel Core i5 2.3GHz</td>\n",
       "      <td>8</td>\n",
       "      <td>128GB SSD</td>\n",
       "      <td>Intel Iris Plus Graphics 640</td>\n",
       "      <td>macOS</td>\n",
       "      <td>1.37</td>\n",
       "      <td>2560</td>\n",
       "      <td>1600</td>\n",
       "      <td>128</td>\n",
       "      <td>SSD</td>\n",
       "      <td>Intel</td>\n",
       "      <td>Core i5</td>\n",
       "      <td>2.3</td>\n",
       "      <td>Intel</td>\n",
       "      <td>Iris</td>\n",
       "    </tr>\n",
       "    <tr>\n",
       "      <th>1</th>\n",
       "      <td>Apple</td>\n",
       "      <td>Ultrabook</td>\n",
       "      <td>13.3</td>\n",
       "      <td>Intel Core i5 1.8GHz</td>\n",
       "      <td>8</td>\n",
       "      <td>128GB Flash Storage</td>\n",
       "      <td>Intel HD Graphics 6000</td>\n",
       "      <td>macOS</td>\n",
       "      <td>1.34</td>\n",
       "      <td>1440</td>\n",
       "      <td>900</td>\n",
       "      <td>128</td>\n",
       "      <td>Flash</td>\n",
       "      <td>Intel</td>\n",
       "      <td>Core i5</td>\n",
       "      <td>1.8</td>\n",
       "      <td>Intel</td>\n",
       "      <td>HD Graphics</td>\n",
       "    </tr>\n",
       "    <tr>\n",
       "      <th>2</th>\n",
       "      <td>HP</td>\n",
       "      <td>Notebook</td>\n",
       "      <td>15.6</td>\n",
       "      <td>Intel Core i5 7200U 2.5GHz</td>\n",
       "      <td>8</td>\n",
       "      <td>256GB SSD</td>\n",
       "      <td>Intel HD Graphics 620</td>\n",
       "      <td>No OS</td>\n",
       "      <td>1.86</td>\n",
       "      <td>1920</td>\n",
       "      <td>1080</td>\n",
       "      <td>256</td>\n",
       "      <td>SSD</td>\n",
       "      <td>Intel</td>\n",
       "      <td>Core i5</td>\n",
       "      <td>2.5</td>\n",
       "      <td>Intel</td>\n",
       "      <td>HD Graphics</td>\n",
       "    </tr>\n",
       "    <tr>\n",
       "      <th>3</th>\n",
       "      <td>Apple</td>\n",
       "      <td>Ultrabook</td>\n",
       "      <td>15.4</td>\n",
       "      <td>Intel Core i7 2.7GHz</td>\n",
       "      <td>16</td>\n",
       "      <td>512GB SSD</td>\n",
       "      <td>AMD Radeon Pro 455</td>\n",
       "      <td>macOS</td>\n",
       "      <td>1.83</td>\n",
       "      <td>2880</td>\n",
       "      <td>1800</td>\n",
       "      <td>512</td>\n",
       "      <td>SSD</td>\n",
       "      <td>Intel</td>\n",
       "      <td>Core i7</td>\n",
       "      <td>2.7</td>\n",
       "      <td>AMD</td>\n",
       "      <td>Radeon</td>\n",
       "    </tr>\n",
       "    <tr>\n",
       "      <th>4</th>\n",
       "      <td>Apple</td>\n",
       "      <td>Ultrabook</td>\n",
       "      <td>13.3</td>\n",
       "      <td>Intel Core i5 3.1GHz</td>\n",
       "      <td>8</td>\n",
       "      <td>256GB SSD</td>\n",
       "      <td>Intel Iris Plus Graphics 650</td>\n",
       "      <td>macOS</td>\n",
       "      <td>1.37</td>\n",
       "      <td>2560</td>\n",
       "      <td>1600</td>\n",
       "      <td>256</td>\n",
       "      <td>SSD</td>\n",
       "      <td>Intel</td>\n",
       "      <td>Core i5</td>\n",
       "      <td>3.1</td>\n",
       "      <td>Intel</td>\n",
       "      <td>Iris</td>\n",
       "    </tr>\n",
       "  </tbody>\n",
       "</table>\n",
       "</div>"
      ],
      "text/plain": [
       "  Company   TypeName  Inches                         Cpu  Ram  \\\n",
       "0   Apple  Ultrabook    13.3        Intel Core i5 2.3GHz    8   \n",
       "1   Apple  Ultrabook    13.3        Intel Core i5 1.8GHz    8   \n",
       "2      HP   Notebook    15.6  Intel Core i5 7200U 2.5GHz    8   \n",
       "3   Apple  Ultrabook    15.4        Intel Core i7 2.7GHz   16   \n",
       "4   Apple  Ultrabook    13.3        Intel Core i5 3.1GHz    8   \n",
       "\n",
       "                Memory                           Gpu  OpSys  Weight  \\\n",
       "0            128GB SSD  Intel Iris Plus Graphics 640  macOS    1.37   \n",
       "1  128GB Flash Storage        Intel HD Graphics 6000  macOS    1.34   \n",
       "2            256GB SSD         Intel HD Graphics 620  No OS    1.86   \n",
       "3            512GB SSD            AMD Radeon Pro 455  macOS    1.83   \n",
       "4            256GB SSD  Intel Iris Plus Graphics 650  macOS    1.37   \n",
       "\n",
       "   ResolutionWidth  ResolutionHeight  TotalStorageGB PrimaryStorageType  \\\n",
       "0             2560              1600             128                SSD   \n",
       "1             1440               900             128              Flash   \n",
       "2             1920              1080             256                SSD   \n",
       "3             2880              1800             512                SSD   \n",
       "4             2560              1600             256                SSD   \n",
       "\n",
       "  CpuBrand  CpuType  CpuSpeedGHz GpuBrand     GpuModel  \n",
       "0    Intel  Core i5          2.3    Intel         Iris  \n",
       "1    Intel  Core i5          1.8    Intel  HD Graphics  \n",
       "2    Intel  Core i5          2.5    Intel  HD Graphics  \n",
       "3    Intel  Core i7          2.7      AMD       Radeon  \n",
       "4    Intel  Core i5          3.1    Intel         Iris  "
      ]
     },
<<<<<<< HEAD
     "execution_count": 18,
=======
     "execution_count": 51,
>>>>>>> 2aa48f7c9b1ceef4006d1d815362e15f2853ff2d
     "metadata": {},
     "output_type": "execute_result"
    }
   ],
   "source": [
    "X_train.head()"
   ]
  },
  {
   "cell_type": "code",
<<<<<<< HEAD
   "execution_count": 19,
=======
   "execution_count": 52,
>>>>>>> 2aa48f7c9b1ceef4006d1d815362e15f2853ff2d
   "metadata": {},
   "outputs": [
    {
     "data": {
      "text/plain": [
       "0    11.175755\n",
       "1    10.776777\n",
       "2    10.329931\n",
       "3    11.814476\n",
       "4    11.473101\n",
       "Name: Log_Price, dtype: float64"
      ]
     },
<<<<<<< HEAD
     "execution_count": 19,
=======
     "execution_count": 52,
>>>>>>> 2aa48f7c9b1ceef4006d1d815362e15f2853ff2d
     "metadata": {},
     "output_type": "execute_result"
    }
   ],
   "source": [
    "y_train.head()"
   ]
  },
  {
   "cell_type": "code",
<<<<<<< HEAD
   "execution_count": 20,
=======
   "execution_count": 53,
>>>>>>> 2aa48f7c9b1ceef4006d1d815362e15f2853ff2d
   "metadata": {},
   "outputs": [
    {
     "data": {
      "text/html": [
       "<div>\n",
       "<style scoped>\n",
       "    .dataframe tbody tr th:only-of-type {\n",
       "        vertical-align: middle;\n",
       "    }\n",
       "\n",
       "    .dataframe tbody tr th {\n",
       "        vertical-align: top;\n",
       "    }\n",
       "\n",
       "    .dataframe thead th {\n",
       "        text-align: right;\n",
       "    }\n",
       "</style>\n",
       "<table border=\"1\" class=\"dataframe\">\n",
       "  <thead>\n",
       "    <tr style=\"text-align: right;\">\n",
       "      <th></th>\n",
       "      <th>Number</th>\n",
       "      <th>Company</th>\n",
       "      <th>TypeName</th>\n",
       "      <th>Inches</th>\n",
       "      <th>Cpu</th>\n",
       "      <th>Ram</th>\n",
       "      <th>Memory</th>\n",
       "      <th>Gpu</th>\n",
       "      <th>OpSys</th>\n",
       "      <th>Weight</th>\n",
       "      <th>...</th>\n",
       "      <th>ResolutionWidth</th>\n",
       "      <th>ResolutionHeight</th>\n",
       "      <th>TotalStorageGB</th>\n",
       "      <th>PrimaryStorageType</th>\n",
       "      <th>CpuBrand</th>\n",
       "      <th>CpuType</th>\n",
       "      <th>CpuSpeedGHz</th>\n",
       "      <th>GpuBrand</th>\n",
       "      <th>GpuModel</th>\n",
       "      <th>Log_Price</th>\n",
       "    </tr>\n",
       "  </thead>\n",
       "  <tbody>\n",
       "    <tr>\n",
       "      <th>0</th>\n",
       "      <td>0</td>\n",
       "      <td>Apple</td>\n",
       "      <td>Ultrabook</td>\n",
       "      <td>13.3</td>\n",
       "      <td>Intel Core i5 2.3GHz</td>\n",
       "      <td>8</td>\n",
       "      <td>128GB SSD</td>\n",
       "      <td>Intel Iris Plus Graphics 640</td>\n",
       "      <td>macOS</td>\n",
       "      <td>1.37</td>\n",
       "      <td>...</td>\n",
       "      <td>2560</td>\n",
       "      <td>1600</td>\n",
       "      <td>128</td>\n",
       "      <td>SSD</td>\n",
       "      <td>Intel</td>\n",
       "      <td>Core i5</td>\n",
       "      <td>2.3</td>\n",
       "      <td>Intel</td>\n",
       "      <td>Iris</td>\n",
       "      <td>11.175755</td>\n",
       "    </tr>\n",
       "    <tr>\n",
       "      <th>1</th>\n",
       "      <td>1</td>\n",
       "      <td>Apple</td>\n",
       "      <td>Ultrabook</td>\n",
       "      <td>13.3</td>\n",
       "      <td>Intel Core i5 1.8GHz</td>\n",
       "      <td>8</td>\n",
       "      <td>128GB Flash Storage</td>\n",
       "      <td>Intel HD Graphics 6000</td>\n",
       "      <td>macOS</td>\n",
       "      <td>1.34</td>\n",
       "      <td>...</td>\n",
       "      <td>1440</td>\n",
       "      <td>900</td>\n",
       "      <td>128</td>\n",
       "      <td>Flash</td>\n",
       "      <td>Intel</td>\n",
       "      <td>Core i5</td>\n",
       "      <td>1.8</td>\n",
       "      <td>Intel</td>\n",
       "      <td>HD Graphics</td>\n",
       "      <td>10.776777</td>\n",
       "    </tr>\n",
       "    <tr>\n",
       "      <th>2</th>\n",
       "      <td>2</td>\n",
       "      <td>HP</td>\n",
       "      <td>Notebook</td>\n",
       "      <td>15.6</td>\n",
       "      <td>Intel Core i5 7200U 2.5GHz</td>\n",
       "      <td>8</td>\n",
       "      <td>256GB SSD</td>\n",
       "      <td>Intel HD Graphics 620</td>\n",
       "      <td>No OS</td>\n",
       "      <td>1.86</td>\n",
       "      <td>...</td>\n",
       "      <td>1920</td>\n",
       "      <td>1080</td>\n",
       "      <td>256</td>\n",
       "      <td>SSD</td>\n",
       "      <td>Intel</td>\n",
       "      <td>Core i5</td>\n",
       "      <td>2.5</td>\n",
       "      <td>Intel</td>\n",
       "      <td>HD Graphics</td>\n",
       "      <td>10.329931</td>\n",
       "    </tr>\n",
       "    <tr>\n",
       "      <th>3</th>\n",
       "      <td>3</td>\n",
       "      <td>Apple</td>\n",
       "      <td>Ultrabook</td>\n",
       "      <td>15.4</td>\n",
       "      <td>Intel Core i7 2.7GHz</td>\n",
       "      <td>16</td>\n",
       "      <td>512GB SSD</td>\n",
       "      <td>AMD Radeon Pro 455</td>\n",
       "      <td>macOS</td>\n",
       "      <td>1.83</td>\n",
       "      <td>...</td>\n",
       "      <td>2880</td>\n",
       "      <td>1800</td>\n",
       "      <td>512</td>\n",
       "      <td>SSD</td>\n",
       "      <td>Intel</td>\n",
       "      <td>Core i7</td>\n",
       "      <td>2.7</td>\n",
       "      <td>AMD</td>\n",
       "      <td>Radeon</td>\n",
       "      <td>11.814476</td>\n",
       "    </tr>\n",
       "    <tr>\n",
       "      <th>4</th>\n",
       "      <td>4</td>\n",
       "      <td>Apple</td>\n",
       "      <td>Ultrabook</td>\n",
       "      <td>13.3</td>\n",
       "      <td>Intel Core i5 3.1GHz</td>\n",
       "      <td>8</td>\n",
       "      <td>256GB SSD</td>\n",
       "      <td>Intel Iris Plus Graphics 650</td>\n",
       "      <td>macOS</td>\n",
       "      <td>1.37</td>\n",
       "      <td>...</td>\n",
       "      <td>2560</td>\n",
       "      <td>1600</td>\n",
       "      <td>256</td>\n",
       "      <td>SSD</td>\n",
       "      <td>Intel</td>\n",
       "      <td>Core i5</td>\n",
       "      <td>3.1</td>\n",
       "      <td>Intel</td>\n",
       "      <td>Iris</td>\n",
       "      <td>11.473101</td>\n",
       "    </tr>\n",
       "  </tbody>\n",
       "</table>\n",
       "<p>5 rows × 21 columns</p>\n",
       "</div>"
      ],
      "text/plain": [
       "   Number Company   TypeName  Inches                         Cpu  Ram  \\\n",
       "0       0   Apple  Ultrabook    13.3        Intel Core i5 2.3GHz    8   \n",
       "1       1   Apple  Ultrabook    13.3        Intel Core i5 1.8GHz    8   \n",
       "2       2      HP   Notebook    15.6  Intel Core i5 7200U 2.5GHz    8   \n",
       "3       3   Apple  Ultrabook    15.4        Intel Core i7 2.7GHz   16   \n",
       "4       4   Apple  Ultrabook    13.3        Intel Core i5 3.1GHz    8   \n",
       "\n",
       "                Memory                           Gpu  OpSys  Weight  ...  \\\n",
       "0            128GB SSD  Intel Iris Plus Graphics 640  macOS    1.37  ...   \n",
       "1  128GB Flash Storage        Intel HD Graphics 6000  macOS    1.34  ...   \n",
       "2            256GB SSD         Intel HD Graphics 620  No OS    1.86  ...   \n",
       "3            512GB SSD            AMD Radeon Pro 455  macOS    1.83  ...   \n",
       "4            256GB SSD  Intel Iris Plus Graphics 650  macOS    1.37  ...   \n",
       "\n",
       "   ResolutionWidth  ResolutionHeight  TotalStorageGB  PrimaryStorageType  \\\n",
       "0             2560              1600             128                 SSD   \n",
       "1             1440               900             128               Flash   \n",
       "2             1920              1080             256                 SSD   \n",
       "3             2880              1800             512                 SSD   \n",
       "4             2560              1600             256                 SSD   \n",
       "\n",
       "  CpuBrand  CpuType CpuSpeedGHz  GpuBrand     GpuModel  Log_Price  \n",
       "0    Intel  Core i5         2.3     Intel         Iris  11.175755  \n",
       "1    Intel  Core i5         1.8     Intel  HD Graphics  10.776777  \n",
       "2    Intel  Core i5         2.5     Intel  HD Graphics  10.329931  \n",
       "3    Intel  Core i7         2.7       AMD       Radeon  11.814476  \n",
       "4    Intel  Core i5         3.1     Intel         Iris  11.473101  \n",
       "\n",
       "[5 rows x 21 columns]"
      ]
     },
<<<<<<< HEAD
     "execution_count": 20,
=======
     "execution_count": 53,
>>>>>>> 2aa48f7c9b1ceef4006d1d815362e15f2853ff2d
     "metadata": {},
     "output_type": "execute_result"
    }
   ],
   "source": [
    "df.head()"
   ]
  },
  {
   "cell_type": "code",
   "execution_count": null,
   "metadata": {},
   "outputs": [],
   "source": []
  },
  {
   "cell_type": "code",
<<<<<<< HEAD
   "execution_count": 21,
=======
   "execution_count": 54,
>>>>>>> 2aa48f7c9b1ceef4006d1d815362e15f2853ff2d
   "metadata": {},
   "outputs": [],
   "source": [
    "# Load the test dataset as well to ensure similar preprocessing\n",
    "test_data_path = 'laptop_data_test.csv'\n",
    "test_data = pd.read_csv(test_data_path)\n",
    "\n",
    "# Combine data temporarily for consistent preprocessing\n",
    "combined_data = pd.concat([df, test_data])\n",
    "\n",
    "# Feature engineering already done on 'data' needs to be applied to 'test_data' too\n",
    "test_data['Ram'] = test_data['Ram'].str.replace('GB', '').astype('int32')\n",
    "test_data['Weight'] = test_data['Weight'].str.replace('kg', '').astype('float32')\n",
    "resolution_split_test = test_data['ScreenResolution'].str.split('x', expand=True)\n",
    "test_data['ResolutionWidth'] = resolution_split_test[0].str.extract('(\\d+)').astype(int)\n",
    "test_data['ResolutionHeight'] = resolution_split_test[1].str.extract('(\\d+)').astype(int)\n",
    "test_data.drop('ScreenResolution', axis=1, inplace=True)\n",
    "test_data['Log_Price'] = np.log(test_data['Price'])\n",
    "X_test = test_data.drop(['Price', 'Number', 'Log_Price'], axis=1)  # Drop 'Price' which is the target and 'Number' which is just an index\n",
    "y_test = test_data['Log_Price']\n"
   ]
  },
  {
   "cell_type": "code",
<<<<<<< HEAD
   "execution_count": 22,
=======
   "execution_count": 55,
>>>>>>> 2aa48f7c9b1ceef4006d1d815362e15f2853ff2d
   "metadata": {},
   "outputs": [],
   "source": [
    "# Example function to extract total storage in GB\n",
    "def extract_storage(memory_str):\n",
    "    storage_parts = re.findall(r'(\\d+)(GB|TB)', memory_str)\n",
    "    total_storage = 0\n",
    "    for part in storage_parts:\n",
    "        size, unit = part\n",
    "        size = int(size)\n",
    "        if unit == 'TB':  # Convert TB to GB\n",
    "            size *= 1024\n",
    "        total_storage += size\n",
    "    return total_storage\n",
    "\n",
    "# Apply the function to create a new column\n",
    "test_data['TotalStorageGB'] = test_data['Memory'].apply(extract_storage)\n",
    "\n",
    "# You could also create a column for the type of primary storage\n",
    "def primary_storage_type(memory_str):\n",
    "    if 'SSD' in memory_str:\n",
    "        return 'SSD'\n",
    "    elif 'HDD' in memory_str:\n",
    "        return 'HDD'\n",
    "    elif 'Flash Storage' in memory_str:\n",
    "        return 'Flash'\n",
    "    else:\n",
    "        return 'Other'\n",
    "\n",
    "test_data['PrimaryStorageType'] = test_data['Memory'].apply(primary_storage_type)"
   ]
  },
  {
   "cell_type": "code",
<<<<<<< HEAD
   "execution_count": 23,
=======
   "execution_count": 56,
>>>>>>> 2aa48f7c9b1ceef4006d1d815362e15f2853ff2d
   "metadata": {},
   "outputs": [
    {
     "data": {
      "text/html": [
       "<div>\n",
       "<style scoped>\n",
       "    .dataframe tbody tr th:only-of-type {\n",
       "        vertical-align: middle;\n",
       "    }\n",
       "\n",
       "    .dataframe tbody tr th {\n",
       "        vertical-align: top;\n",
       "    }\n",
       "\n",
       "    .dataframe thead th {\n",
       "        text-align: right;\n",
       "    }\n",
       "</style>\n",
       "<table border=\"1\" class=\"dataframe\">\n",
       "  <thead>\n",
       "    <tr style=\"text-align: right;\">\n",
       "      <th></th>\n",
       "      <th>Cpu</th>\n",
       "      <th>CpuBrand</th>\n",
       "      <th>CpuType</th>\n",
       "      <th>CpuSpeedGHz</th>\n",
       "    </tr>\n",
       "  </thead>\n",
       "  <tbody>\n",
       "    <tr>\n",
       "      <th>0</th>\n",
       "      <td>Intel Core i7 6820HK 2.7GHz</td>\n",
       "      <td>Intel</td>\n",
       "      <td>Core i7</td>\n",
       "      <td>2.7</td>\n",
       "    </tr>\n",
       "    <tr>\n",
       "      <th>1</th>\n",
       "      <td>Intel Core i7 7Y75 1.3GHz</td>\n",
       "      <td>Intel</td>\n",
       "      <td>Core i7</td>\n",
       "      <td>1.3</td>\n",
       "    </tr>\n",
       "    <tr>\n",
       "      <th>2</th>\n",
       "      <td>Intel Core i7 7500U 2.7GHz</td>\n",
       "      <td>Intel</td>\n",
       "      <td>Core i7</td>\n",
       "      <td>2.7</td>\n",
       "    </tr>\n",
       "    <tr>\n",
       "      <th>3</th>\n",
       "      <td>Intel Core i5 7200U 2.5GHz</td>\n",
       "      <td>Intel</td>\n",
       "      <td>Core i5</td>\n",
       "      <td>2.5</td>\n",
       "    </tr>\n",
       "    <tr>\n",
       "      <th>4</th>\n",
       "      <td>Intel Core i7 7500U 2.7GHz</td>\n",
       "      <td>Intel</td>\n",
       "      <td>Core i7</td>\n",
       "      <td>2.7</td>\n",
       "    </tr>\n",
       "  </tbody>\n",
       "</table>\n",
       "</div>"
      ],
      "text/plain": [
       "                           Cpu CpuBrand  CpuType  CpuSpeedGHz\n",
       "0  Intel Core i7 6820HK 2.7GHz    Intel  Core i7          2.7\n",
       "1    Intel Core i7 7Y75 1.3GHz    Intel  Core i7          1.3\n",
       "2   Intel Core i7 7500U 2.7GHz    Intel  Core i7          2.7\n",
       "3   Intel Core i5 7200U 2.5GHz    Intel  Core i5          2.5\n",
       "4   Intel Core i7 7500U 2.7GHz    Intel  Core i7          2.7"
      ]
     },
<<<<<<< HEAD
     "execution_count": 23,
=======
     "execution_count": 56,
>>>>>>> 2aa48f7c9b1ceef4006d1d815362e15f2853ff2d
     "metadata": {},
     "output_type": "execute_result"
    }
   ],
   "source": [
    "def parse_general_cpu_type(cpu_str):\n",
    "    # Extract general CPU brand and type\n",
    "    match = re.search(r'(\\bIntel\\b|\\bAMD\\b)\\s+(Core i\\d|Celeron|Pentium|Xeon|A\\d|Ryzen)', cpu_str)\n",
    "    if match:\n",
    "        brand = match.group(1)\n",
    "        type = match.group(2).strip()\n",
    "        # Safely extract the speed, ensuring the regex match is not None\n",
    "        speed_match = re.search(r'(\\d\\.\\d)GHz', cpu_str)\n",
    "        if speed_match:\n",
    "            speed_ghz = float(speed_match.group(1))\n",
    "            return brand, type, speed_ghz\n",
    "    return None, None, None\n",
    "\n",
    "# Apply the function again to simplify CPU types\n",
    "test_data['CpuBrand'], test_data['CpuType'], test_data['CpuSpeedGHz'] = zip(*test_data['Cpu'].apply(parse_general_cpu_type))\n",
    "\n",
    "# Create simplified CPU type dummies multiplied by the CPU speed\n",
    "cpu_type_simplified_dummies = pd.get_dummies(test_data['CpuType'])\n",
    "for column in cpu_type_simplified_dummies.columns:\n",
    "    cpu_type_simplified_dummies[column] *= test_data['CpuSpeedGHz']\n",
    "\n",
    "# Add these new features to the original DataFrame\n",
    "data_with_simplified_cpu_speeds = pd.concat([test_data, cpu_type_simplified_dummies], axis=1)\n",
    "\n",
    "# Show the first few rows to check the new structure with simplified CPU type and speed columns\n",
    "data_with_simplified_cpu_speeds[['Cpu', 'CpuBrand', 'CpuType', 'CpuSpeedGHz']].head()"
   ]
  },
  {
   "cell_type": "code",
<<<<<<< HEAD
   "execution_count": 24,
=======
   "execution_count": 57,
>>>>>>> 2aa48f7c9b1ceef4006d1d815362e15f2853ff2d
   "metadata": {},
   "outputs": [
    {
     "data": {
      "text/html": [
       "<div>\n",
       "<style scoped>\n",
       "    .dataframe tbody tr th:only-of-type {\n",
       "        vertical-align: middle;\n",
       "    }\n",
       "\n",
       "    .dataframe tbody tr th {\n",
       "        vertical-align: top;\n",
       "    }\n",
       "\n",
       "    .dataframe thead th {\n",
       "        text-align: right;\n",
       "    }\n",
       "</style>\n",
       "<table border=\"1\" class=\"dataframe\">\n",
       "  <thead>\n",
       "    <tr style=\"text-align: right;\">\n",
       "      <th></th>\n",
       "      <th>Gpu</th>\n",
       "      <th>GpuBrand</th>\n",
       "      <th>GpuModel</th>\n",
       "    </tr>\n",
       "  </thead>\n",
       "  <tbody>\n",
       "    <tr>\n",
       "      <th>0</th>\n",
       "      <td>Nvidia GeForce GTX 980M</td>\n",
       "      <td>Nvidia</td>\n",
       "      <td>GeForce GTX</td>\n",
       "    </tr>\n",
       "    <tr>\n",
       "      <th>1</th>\n",
       "      <td>Intel HD Graphics 615</td>\n",
       "      <td>Intel</td>\n",
       "      <td>HD Graphics</td>\n",
       "    </tr>\n",
       "    <tr>\n",
       "      <th>2</th>\n",
       "      <td>Intel HD Graphics 620</td>\n",
       "      <td>Intel</td>\n",
       "      <td>HD Graphics</td>\n",
       "    </tr>\n",
       "    <tr>\n",
       "      <th>3</th>\n",
       "      <td>Intel HD Graphics 620</td>\n",
       "      <td>Intel</td>\n",
       "      <td>HD Graphics</td>\n",
       "    </tr>\n",
       "    <tr>\n",
       "      <th>4</th>\n",
       "      <td>Intel HD Graphics 620</td>\n",
       "      <td>Intel</td>\n",
       "      <td>HD Graphics</td>\n",
       "    </tr>\n",
       "  </tbody>\n",
       "</table>\n",
       "</div>"
      ],
      "text/plain": [
       "                       Gpu GpuBrand     GpuModel\n",
       "0  Nvidia GeForce GTX 980M   Nvidia  GeForce GTX\n",
       "1    Intel HD Graphics 615    Intel  HD Graphics\n",
       "2    Intel HD Graphics 620    Intel  HD Graphics\n",
       "3    Intel HD Graphics 620    Intel  HD Graphics\n",
       "4    Intel HD Graphics 620    Intel  HD Graphics"
      ]
     },
<<<<<<< HEAD
     "execution_count": 24,
=======
     "execution_count": 57,
>>>>>>> 2aa48f7c9b1ceef4006d1d815362e15f2853ff2d
     "metadata": {},
     "output_type": "execute_result"
    }
   ],
   "source": [
    "def parse_gpu(gpu_str):\n",
    "    # Extract GPU brand\n",
    "    if \"Nvidia\" in gpu_str:\n",
    "        brand = \"Nvidia\"\n",
    "    elif \"AMD\" in gpu_str:\n",
    "        brand = \"AMD\"\n",
    "    elif \"Intel\" in gpu_str:\n",
    "        brand = \"Intel\"\n",
    "    else:\n",
    "        brand = \"Other\"\n",
    "\n",
    "    # Simplify GPU model by extracting general model types if available\n",
    "    model_match = re.search(r'(GeForce GTX|GeForce GT|Quadro|FirePro|Iris|HD Graphics|UHD Graphics|Radeon)', gpu_str)\n",
    "    model = model_match.group(1) if model_match else \"Unknown\"\n",
    "\n",
    "    return brand, model\n",
    "\n",
    "# Apply the function to the DataFrame\n",
    "test_data[['GpuBrand', 'GpuModel']] = test_data['Gpu'].apply(lambda x: pd.Series(parse_gpu(x)))\n",
    "\n",
    "# Check the results\n",
    "gpu_features_head = test_data[['Gpu', 'GpuBrand', 'GpuModel']].head()\n",
    "gpu_features_head"
   ]
  },
  {
   "cell_type": "code",
<<<<<<< HEAD
   "execution_count": 25,
=======
   "execution_count": 58,
>>>>>>> 2aa48f7c9b1ceef4006d1d815362e15f2853ff2d
   "metadata": {},
   "outputs": [
    {
     "name": "stdout",
     "output_type": "stream",
     "text": [
      "<class 'pandas.core.frame.DataFrame'>\n",
      "RangeIndex: 402 entries, 0 to 401\n",
      "Data columns (total 21 columns):\n",
      " #   Column              Non-Null Count  Dtype  \n",
      "---  ------              --------------  -----  \n",
      " 0   Number              402 non-null    int64  \n",
      " 1   Company             402 non-null    object \n",
      " 2   TypeName            402 non-null    object \n",
      " 3   Inches              402 non-null    float64\n",
      " 4   Cpu                 402 non-null    object \n",
      " 5   Ram                 402 non-null    int32  \n",
      " 6   Memory              402 non-null    object \n",
      " 7   Gpu                 402 non-null    object \n",
      " 8   OpSys               402 non-null    object \n",
      " 9   Weight              402 non-null    float32\n",
      " 10  Price               402 non-null    float64\n",
      " 11  ResolutionWidth     402 non-null    int64  \n",
      " 12  ResolutionHeight    402 non-null    int64  \n",
      " 13  Log_Price           402 non-null    float64\n",
      " 14  TotalStorageGB      402 non-null    int64  \n",
      " 15  PrimaryStorageType  402 non-null    object \n",
      " 16  CpuBrand            367 non-null    object \n",
      " 17  CpuType             367 non-null    object \n",
      " 18  CpuSpeedGHz         367 non-null    float64\n",
      " 19  GpuBrand            402 non-null    object \n",
      " 20  GpuModel            402 non-null    object \n",
      "dtypes: float32(1), float64(4), int32(1), int64(4), object(11)\n",
      "memory usage: 62.9+ KB\n"
     ]
    }
   ],
   "source": [
    "test_data.info()"
   ]
  },
  {
   "cell_type": "code",
<<<<<<< HEAD
   "execution_count": 26,
=======
   "execution_count": 59,
>>>>>>> 2aa48f7c9b1ceef4006d1d815362e15f2853ff2d
   "metadata": {},
   "outputs": [
    {
     "name": "stdout",
     "output_type": "stream",
     "text": [
      "<class 'pandas.core.frame.DataFrame'>\n",
      "RangeIndex: 901 entries, 0 to 900\n",
      "Data columns (total 21 columns):\n",
      " #   Column              Non-Null Count  Dtype  \n",
      "---  ------              --------------  -----  \n",
      " 0   Number              901 non-null    int64  \n",
      " 1   Company             901 non-null    object \n",
      " 2   TypeName            901 non-null    object \n",
      " 3   Inches              901 non-null    float64\n",
      " 4   Cpu                 901 non-null    object \n",
      " 5   Ram                 901 non-null    int32  \n",
      " 6   Memory              901 non-null    object \n",
      " 7   Gpu                 901 non-null    object \n",
      " 8   OpSys               901 non-null    object \n",
      " 9   Weight              901 non-null    float32\n",
      " 10  Price               901 non-null    float64\n",
      " 11  ResolutionWidth     901 non-null    int64  \n",
      " 12  ResolutionHeight    901 non-null    int64  \n",
      " 13  TotalStorageGB      901 non-null    int64  \n",
      " 14  PrimaryStorageType  901 non-null    object \n",
      " 15  CpuBrand            901 non-null    object \n",
      " 16  CpuType             901 non-null    object \n",
      " 17  CpuSpeedGHz         901 non-null    float64\n",
      " 18  GpuBrand            901 non-null    object \n",
      " 19  GpuModel            901 non-null    object \n",
      " 20  Log_Price           901 non-null    float64\n",
      "dtypes: float32(1), float64(4), int32(1), int64(4), object(11)\n",
      "memory usage: 140.9+ KB\n"
     ]
    }
   ],
   "source": [
    "df.info()"
   ]
  },
  {
   "cell_type": "code",
<<<<<<< HEAD
   "execution_count": 27,
=======
   "execution_count": 60,
>>>>>>> 2aa48f7c9b1ceef4006d1d815362e15f2853ff2d
   "metadata": {},
   "outputs": [
    {
     "data": {
      "text/plain": [
<<<<<<< HEAD
       "0.24643471125137267"
      ]
     },
     "execution_count": 27,
=======
       "0.2467965327904644"
      ]
     },
     "execution_count": 60,
>>>>>>> 2aa48f7c9b1ceef4006d1d815362e15f2853ff2d
     "metadata": {},
     "output_type": "execute_result"
    }
   ],
   "source": [
    "# Select features and target\n",
    "features = [\n",
    "    'Company', 'TypeName', 'Ram', 'OpSys', 'Weight', 'ResolutionWidth', 'ResolutionHeight',\n",
    "    'TotalStorageGB', 'CpuBrand', 'CpuType', 'CpuSpeedGHz',  'GpuBrand', 'GpuModel']\n",
    "X_train = df[features]\n",
    "y_train = df['Log_Price']\n",
    "X_test = test_data[features]\n",
    "y_test = test_data['Log_Price']\n",
    "\n",
    "# Preprocessing for numerical and categorical data\n",
    "numerical_cols = [ 'Ram', 'Weight', 'ResolutionWidth', 'ResolutionHeight', 'TotalStorageGB', 'CpuSpeedGHz']\n",
    "categorical_cols = ['Company', 'TypeName', 'OpSys', 'CpuBrand', 'CpuType', 'GpuBrand', 'GpuModel' ]\n",
    "\n",
<<<<<<< HEAD
    "\n",
    "\n",
=======
>>>>>>> 2aa48f7c9b1ceef4006d1d815362e15f2853ff2d
    "# Create preprocessing transformers\n",
    "numerical_transformer = Pipeline(steps=[\n",
    "    ('imputer', SimpleImputer(strategy='mean')),\n",
    "    ('scaler', StandardScaler())\n",
    "])\n",
    "\n",
    "categorical_transformer = Pipeline(steps=[\n",
    "    ('imputer', SimpleImputer(strategy='most_frequent')),\n",
    "    ('onehot', OneHotEncoder(handle_unknown='ignore'))\n",
    "])\n",
    "\n",
    "# Bundle preprocessing for numerical and categorical data\n",
    "preprocessor = ColumnTransformer(\n",
    "    transformers=[\n",
    "        ('num', numerical_transformer, numerical_cols),\n",
    "        ('cat', categorical_transformer, categorical_cols)\n",
    "    ])\n",
    "\n",
    "# Create a Random Forest model pipeline\n",
    "model = Pipeline(steps=[\n",
    "    ('preprocessor', preprocessor),\n",
    "    ('regressor', RandomForestRegressor(n_estimators=100, random_state=42))\n",
    "])\n",
    "\n",
    "# Train the model\n",
    "model.fit(X_train, y_train)\n",
    "\n",
    "# Predict and evaluate the model\n",
    "y_pred = model.predict(X_test)\n",
    "mse = mean_squared_error(y_test, y_pred)\n",
    "rmse = np.sqrt(mse)\n",
    "\n",
    "rmse"
   ]
  },
  {
   "cell_type": "code",
<<<<<<< HEAD
   "execution_count": 28,
=======
   "execution_count": 61,
>>>>>>> 2aa48f7c9b1ceef4006d1d815362e15f2853ff2d
   "metadata": {},
   "outputs": [
    {
     "data": {
<<<<<<< HEAD
      "image/png": "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",
      "text/plain": [
       "<Figure size 1200x1000 with 1 Axes>"
      ]
     },
     "metadata": {},
=======
      "image/png": "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",
      "text/plain": [
       "<Figure size 864x720 with 1 Axes>"
      ]
     },
     "metadata": {
      "needs_background": "light"
     },
>>>>>>> 2aa48f7c9b1ceef4006d1d815362e15f2853ff2d
     "output_type": "display_data"
    },
    {
     "data": {
      "text/html": [
       "<div>\n",
       "<style scoped>\n",
       "    .dataframe tbody tr th:only-of-type {\n",
       "        vertical-align: middle;\n",
       "    }\n",
       "\n",
       "    .dataframe tbody tr th {\n",
       "        vertical-align: top;\n",
       "    }\n",
       "\n",
       "    .dataframe thead th {\n",
       "        text-align: right;\n",
       "    }\n",
       "</style>\n",
       "<table border=\"1\" class=\"dataframe\">\n",
       "  <thead>\n",
       "    <tr style=\"text-align: right;\">\n",
       "      <th></th>\n",
       "      <th>Feature</th>\n",
       "      <th>Importance</th>\n",
       "    </tr>\n",
       "  </thead>\n",
       "  <tbody>\n",
       "    <tr>\n",
       "      <th>1</th>\n",
       "      <td>Ram</td>\n",
<<<<<<< HEAD
       "      <td>0.623499</td>\n",
=======
       "      <td>0.623485</td>\n",
>>>>>>> 2aa48f7c9b1ceef4006d1d815362e15f2853ff2d
       "    </tr>\n",
       "    <tr>\n",
       "      <th>2</th>\n",
       "      <td>Weight</td>\n",
<<<<<<< HEAD
       "      <td>0.070246</td>\n",
=======
       "      <td>0.070436</td>\n",
>>>>>>> 2aa48f7c9b1ceef4006d1d815362e15f2853ff2d
       "    </tr>\n",
       "    <tr>\n",
       "      <th>6</th>\n",
       "      <td>CpuSpeedGHz</td>\n",
<<<<<<< HEAD
       "      <td>0.051449</td>\n",
=======
       "      <td>0.051476</td>\n",
>>>>>>> 2aa48f7c9b1ceef4006d1d815362e15f2853ff2d
       "    </tr>\n",
       "    <tr>\n",
       "      <th>29</th>\n",
       "      <td>TypeName_Notebook</td>\n",
<<<<<<< HEAD
       "      <td>0.045420</td>\n",
=======
       "      <td>0.045233</td>\n",
>>>>>>> 2aa48f7c9b1ceef4006d1d815362e15f2853ff2d
       "    </tr>\n",
       "    <tr>\n",
       "      <th>4</th>\n",
       "      <td>ResolutionHeight</td>\n",
<<<<<<< HEAD
       "      <td>0.041502</td>\n",
=======
       "      <td>0.041395</td>\n",
>>>>>>> 2aa48f7c9b1ceef4006d1d815362e15f2853ff2d
       "    </tr>\n",
       "    <tr>\n",
       "      <th>5</th>\n",
       "      <td>TotalStorageGB</td>\n",
<<<<<<< HEAD
       "      <td>0.036986</td>\n",
=======
       "      <td>0.037186</td>\n",
>>>>>>> 2aa48f7c9b1ceef4006d1d815362e15f2853ff2d
       "    </tr>\n",
       "    <tr>\n",
       "      <th>51</th>\n",
       "      <td>CpuType_Core i5</td>\n",
<<<<<<< HEAD
       "      <td>0.025787</td>\n",
=======
       "      <td>0.025799</td>\n",
>>>>>>> 2aa48f7c9b1ceef4006d1d815362e15f2853ff2d
       "    </tr>\n",
       "    <tr>\n",
       "      <th>0</th>\n",
       "      <td>Inches</td>\n",
<<<<<<< HEAD
       "      <td>0.011143</td>\n",
=======
       "      <td>0.011083</td>\n",
>>>>>>> 2aa48f7c9b1ceef4006d1d815362e15f2853ff2d
       "    </tr>\n",
       "    <tr>\n",
       "      <th>49</th>\n",
       "      <td>CpuType_Celeron</td>\n",
<<<<<<< HEAD
       "      <td>0.010213</td>\n",
=======
       "      <td>0.010230</td>\n",
>>>>>>> 2aa48f7c9b1ceef4006d1d815362e15f2853ff2d
       "    </tr>\n",
       "    <tr>\n",
       "      <th>65</th>\n",
       "      <td>GpuModel_Quadro</td>\n",
<<<<<<< HEAD
       "      <td>0.009514</td>\n",
=======
       "      <td>0.009517</td>\n",
>>>>>>> 2aa48f7c9b1ceef4006d1d815362e15f2853ff2d
       "    </tr>\n",
       "    <tr>\n",
       "      <th>37</th>\n",
       "      <td>OpSys_Windows 10</td>\n",
<<<<<<< HEAD
       "      <td>0.006844</td>\n",
=======
       "      <td>0.006877</td>\n",
>>>>>>> 2aa48f7c9b1ceef4006d1d815362e15f2853ff2d
       "    </tr>\n",
       "    <tr>\n",
       "      <th>52</th>\n",
       "      <td>CpuType_Core i7</td>\n",
<<<<<<< HEAD
       "      <td>0.005922</td>\n",
       "    </tr>\n",
       "    <tr>\n",
       "      <th>14</th>\n",
       "      <td>Company_HP</td>\n",
       "      <td>0.004091</td>\n",
=======
       "      <td>0.005812</td>\n",
>>>>>>> 2aa48f7c9b1ceef4006d1d815362e15f2853ff2d
       "    </tr>\n",
       "    <tr>\n",
       "      <th>3</th>\n",
       "      <td>ResolutionWidth</td>\n",
<<<<<<< HEAD
       "      <td>0.004021</td>\n",
=======
       "      <td>0.004112</td>\n",
       "    </tr>\n",
       "    <tr>\n",
       "      <th>14</th>\n",
       "      <td>Company_HP</td>\n",
       "      <td>0.004098</td>\n",
>>>>>>> 2aa48f7c9b1ceef4006d1d815362e15f2853ff2d
       "    </tr>\n",
       "    <tr>\n",
       "      <th>17</th>\n",
       "      <td>Company_Lenovo</td>\n",
<<<<<<< HEAD
       "      <td>0.003609</td>\n",
=======
       "      <td>0.003576</td>\n",
>>>>>>> 2aa48f7c9b1ceef4006d1d815362e15f2853ff2d
       "    </tr>\n",
       "    <tr>\n",
       "      <th>36</th>\n",
       "      <td>OpSys_No OS</td>\n",
<<<<<<< HEAD
       "      <td>0.003512</td>\n",
=======
       "      <td>0.003524</td>\n",
>>>>>>> 2aa48f7c9b1ceef4006d1d815362e15f2853ff2d
       "    </tr>\n",
       "    <tr>\n",
       "      <th>9</th>\n",
       "      <td>Company_Asus</td>\n",
       "      <td>0.003074</td>\n",
       "    </tr>\n",
       "    <tr>\n",
       "      <th>11</th>\n",
       "      <td>Company_Dell</td>\n",
<<<<<<< HEAD
       "      <td>0.002912</td>\n",
       "    </tr>\n",
       "    <tr>\n",
       "      <th>26</th>\n",
       "      <td>TypeName_2 in 1 Convertible</td>\n",
       "      <td>0.002555</td>\n",
=======
       "      <td>0.002910</td>\n",
>>>>>>> 2aa48f7c9b1ceef4006d1d815362e15f2853ff2d
       "    </tr>\n",
       "    <tr>\n",
       "      <th>7</th>\n",
       "      <td>Company_Acer</td>\n",
<<<<<<< HEAD
       "      <td>0.002532</td>\n",
=======
       "      <td>0.002587</td>\n",
       "    </tr>\n",
       "    <tr>\n",
       "      <th>26</th>\n",
       "      <td>TypeName_2 in 1 Convertible</td>\n",
       "      <td>0.002569</td>\n",
>>>>>>> 2aa48f7c9b1ceef4006d1d815362e15f2853ff2d
       "    </tr>\n",
       "  </tbody>\n",
       "</table>\n",
       "</div>"
      ],
      "text/plain": [
       "                        Feature  Importance\n",
<<<<<<< HEAD
       "1                           Ram    0.623499\n",
       "2                        Weight    0.070246\n",
       "6                   CpuSpeedGHz    0.051449\n",
       "29            TypeName_Notebook    0.045420\n",
       "4              ResolutionHeight    0.041502\n",
       "5                TotalStorageGB    0.036986\n",
       "51              CpuType_Core i5    0.025787\n",
       "0                        Inches    0.011143\n",
       "49              CpuType_Celeron    0.010213\n",
       "65              GpuModel_Quadro    0.009514\n",
       "37             OpSys_Windows 10    0.006844\n",
       "52              CpuType_Core i7    0.005922\n",
       "14                   Company_HP    0.004091\n",
       "3               ResolutionWidth    0.004021\n",
       "17               Company_Lenovo    0.003609\n",
       "36                  OpSys_No OS    0.003512\n",
       "9                  Company_Asus    0.003074\n",
       "11                 Company_Dell    0.002912\n",
       "26  TypeName_2 in 1 Convertible    0.002555\n",
       "7                  Company_Acer    0.002532"
      ]
     },
     "execution_count": 28,
=======
       "1                           Ram    0.623485\n",
       "2                        Weight    0.070436\n",
       "6                   CpuSpeedGHz    0.051476\n",
       "29            TypeName_Notebook    0.045233\n",
       "4              ResolutionHeight    0.041395\n",
       "5                TotalStorageGB    0.037186\n",
       "51              CpuType_Core i5    0.025799\n",
       "0                        Inches    0.011083\n",
       "49              CpuType_Celeron    0.010230\n",
       "65              GpuModel_Quadro    0.009517\n",
       "37             OpSys_Windows 10    0.006877\n",
       "52              CpuType_Core i7    0.005812\n",
       "3               ResolutionWidth    0.004112\n",
       "14                   Company_HP    0.004098\n",
       "17               Company_Lenovo    0.003576\n",
       "36                  OpSys_No OS    0.003524\n",
       "9                  Company_Asus    0.003074\n",
       "11                 Company_Dell    0.002910\n",
       "7                  Company_Acer    0.002587\n",
       "26  TypeName_2 in 1 Convertible    0.002569"
      ]
     },
     "execution_count": 61,
>>>>>>> 2aa48f7c9b1ceef4006d1d815362e15f2853ff2d
     "metadata": {},
     "output_type": "execute_result"
    }
   ],
   "source": [
    "# List of original and derived features to be included directly\n",
    "original_features = [\n",
    "    'Company', 'TypeName', 'Inches', 'Ram', 'OpSys', 'Weight', 'ResolutionWidth', 'ResolutionHeight',\n",
    "    'TotalStorageGB', 'CpuBrand', 'CpuType', 'CpuSpeedGHz',  'GpuBrand', 'GpuModel']\n",
    "\n",
    "# Create preprocessing for the original features\n",
    "original_numerical_cols = ['Inches', 'Ram', 'Weight', 'ResolutionWidth', 'ResolutionHeight', 'TotalStorageGB', 'CpuSpeedGHz']\n",
    "original_categorical_cols = ['Company', 'TypeName', 'OpSys', 'CpuBrand', 'CpuType', 'GpuBrand', 'GpuModel' ]\n",
    "\n",
    "# Define transformers for the original feature set\n",
    "original_preprocessor = ColumnTransformer(\n",
    "    transformers=[\n",
    "        ('num', numerical_transformer, original_numerical_cols),\n",
    "        ('cat', categorical_transformer, original_categorical_cols)\n",
    "    ])\n",
    "\n",
    "# Create a Random Forest model pipeline using the original feature set\n",
    "original_model = Pipeline(steps=[\n",
    "    ('preprocessor', original_preprocessor),\n",
    "    ('regressor', RandomForestRegressor(n_estimators=100, random_state=42))\n",
    "])\n",
    "\n",
    "# Train the model using the original features\n",
    "original_X_train = df[original_features]\n",
    "original_X_test = test_data[original_features]\n",
    "original_model.fit(original_X_train, y_train)\n",
    "\n",
    "# Extract feature importances from the original model\n",
    "original_feature_importances = original_model.named_steps['regressor'].feature_importances_\n",
    "\n",
    "# Get feature names from the original preprocessor step\n",
    "original_all_features = (original_numerical_cols +\n",
    "                         list(original_model.named_steps['preprocessor']\n",
    "                              .named_transformers_['cat']\n",
    "                              .named_steps['onehot']\n",
    "                              .get_feature_names_out(original_categorical_cols)))\n",
    "\n",
    "# Create a DataFrame to view the importances\n",
    "original_importances_df = pd.DataFrame({\n",
    "    'Feature': original_all_features,\n",
    "    'Importance': original_feature_importances\n",
    "}).sort_values(by='Importance', ascending=False)\n",
    "\n",
    "# Plotting the original feature importances\n",
    "plt.figure(figsize=(12, 10))\n",
    "plt.title('Original Feature Importances in Random Forest Model')\n",
    "plt.barh(original_importances_df['Feature'][:20], original_importances_df['Importance'][:20])\n",
    "plt.xlabel('Importance')\n",
    "plt.gca().invert_yaxis()  # Invert axis to have the most important at the top\n",
    "plt.show()\n",
    "\n",
    "original_importances_df[:20]  # Show the top 20 most important original features\n"
   ]
  },
  {
   "cell_type": "code",
<<<<<<< HEAD
   "execution_count": 29,
=======
   "execution_count": 62,
>>>>>>> 2aa48f7c9b1ceef4006d1d815362e15f2853ff2d
   "metadata": {},
   "outputs": [
    {
     "data": {
      "text/plain": [
<<<<<<< HEAD
       "(0.18344290474251554, 0.8459054336848001)"
      ]
     },
     "execution_count": 29,
=======
       "(0.18364077058954764, 0.845452610597454)"
      ]
     },
     "execution_count": 62,
>>>>>>> 2aa48f7c9b1ceef4006d1d815362e15f2853ff2d
     "metadata": {},
     "output_type": "execute_result"
    }
   ],
   "source": [
    "from sklearn.metrics import mean_absolute_error, r2_score\n",
    "\n",
    "# Calculate Mean Absolute Error (MAE)\n",
    "mae = mean_absolute_error(y_test, y_pred)\n",
    "\n",
    "# Calculate R-squared (R2)\n",
    "r2 = r2_score(y_test, y_pred)\n",
    "\n",
    "mae, r2"
   ]
  },
  {
   "cell_type": "code",
<<<<<<< HEAD
   "execution_count": 30,
=======
   "execution_count": 63,
>>>>>>> 2aa48f7c9b1ceef4006d1d815362e15f2853ff2d
   "metadata": {},
   "outputs": [
    {
     "data": {
      "text/plain": [
<<<<<<< HEAD
       "0.2874637213186517"
      ]
     },
     "execution_count": 30,
=======
       "0.28746372131863973"
      ]
     },
     "execution_count": 63,
>>>>>>> 2aa48f7c9b1ceef4006d1d815362e15f2853ff2d
     "metadata": {},
     "output_type": "execute_result"
    }
   ],
   "source": [
    "from sklearn.svm import SVR\n",
    "model = Pipeline(steps=[\n",
    "    ('preprocessor', preprocessor),\n",
    "    ('classifier', SVR(kernel='linear'))\n",
    "])\n",
    "\n",
    "# Train the model\n",
    "model.fit(X_train, y_train)\n",
    "\n",
    "# Predict and evaluate the model\n",
    "y_pred = model.predict(X_test)\n",
    "mse = mean_squared_error(y_test, y_pred)\n",
    "rmse = np.sqrt(mse)\n",
    "\n",
    "rmse"
   ]
  },
  {
   "cell_type": "code",
<<<<<<< HEAD
   "execution_count": 31,
=======
   "execution_count": 64,
>>>>>>> 2aa48f7c9b1ceef4006d1d815362e15f2853ff2d
   "metadata": {},
   "outputs": [
    {
     "data": {
      "text/plain": [
<<<<<<< HEAD
       "0.25085720282786755"
      ]
     },
     "execution_count": 31,
=======
       "0.2508572028278663"
      ]
     },
     "execution_count": 64,
>>>>>>> 2aa48f7c9b1ceef4006d1d815362e15f2853ff2d
     "metadata": {},
     "output_type": "execute_result"
    }
   ],
   "source": [
    "model = Pipeline(steps=[\n",
    "    ('preprocessor', preprocessor),\n",
    "    ('regressor', SVR(kernel='rbf'))\n",
    "])\n",
    "\n",
    "# Train the model\n",
    "model.fit(X_train, y_train)\n",
    "\n",
    "# Predict and evaluate the model\n",
    "y_pred = model.predict(X_test)\n",
    "mse = mean_squared_error(y_test, y_pred)\n",
    "rmse = np.sqrt(mse)\n",
    "\n",
    "rmse"
   ]
  },
  {
   "cell_type": "code",
<<<<<<< HEAD
   "execution_count": 32,
=======
   "execution_count": 65,
>>>>>>> 2aa48f7c9b1ceef4006d1d815362e15f2853ff2d
   "metadata": {},
   "outputs": [
    {
     "data": {
      "text/plain": [
<<<<<<< HEAD
       "(0.18437280083749477, 0.8403250767643284)"
      ]
     },
     "execution_count": 32,
=======
       "(0.18437280083749447, 0.84032507676433)"
      ]
     },
     "execution_count": 65,
>>>>>>> 2aa48f7c9b1ceef4006d1d815362e15f2853ff2d
     "metadata": {},
     "output_type": "execute_result"
    }
   ],
   "source": [
    "# Calculate Mean Absolute Error (MAE)\n",
    "mae = mean_absolute_error(y_test, y_pred)\n",
    "\n",
    "# Calculate R-squared (R2)\n",
    "r2 = r2_score(y_test, y_pred)\n",
    "\n",
    "mae, r2"
   ]
  },
  {
   "cell_type": "code",
<<<<<<< HEAD
   "execution_count": 33,
=======
   "execution_count": 67,
>>>>>>> 2aa48f7c9b1ceef4006d1d815362e15f2853ff2d
   "metadata": {},
   "outputs": [
    {
     "data": {
      "text/plain": [
<<<<<<< HEAD
       "0.291608362522457"
      ]
     },
     "execution_count": 33,
=======
       "0.29161253798685943"
      ]
     },
     "execution_count": 67,
>>>>>>> 2aa48f7c9b1ceef4006d1d815362e15f2853ff2d
     "metadata": {},
     "output_type": "execute_result"
    }
   ],
   "source": [
    "from sklearn.linear_model import LinearRegression\n",
    "model = Pipeline(steps=[\n",
    "    ('preprocessor', preprocessor),\n",
    "    ('regressor', LinearRegression())\n",
    "])\n",
    "\n",
    "# Train the model\n",
    "model.fit(X_train, y_train)\n",
    "\n",
    "# Predict and evaluate the model\n",
    "y_pred = model.predict(X_test)\n",
    "mse = mean_squared_error(y_test, y_pred)\n",
    "rmse = np.sqrt(mse)\n",
    "\n",
    "rmse"
   ]
  },
  {
   "cell_type": "code",
<<<<<<< HEAD
   "execution_count": 34,
=======
   "execution_count": 68,
>>>>>>> 2aa48f7c9b1ceef4006d1d815362e15f2853ff2d
   "metadata": {},
   "outputs": [
    {
     "data": {
      "text/plain": [
<<<<<<< HEAD
       "(0.22976832558584925, 0.7842337499843309)"
      ]
     },
     "execution_count": 34,
=======
       "(0.22977066314320746, 0.7842275709383086)"
      ]
     },
     "execution_count": 68,
>>>>>>> 2aa48f7c9b1ceef4006d1d815362e15f2853ff2d
     "metadata": {},
     "output_type": "execute_result"
    }
   ],
   "source": [
    "# Calculate Mean Absolute Error (MAE)\n",
    "mae = mean_absolute_error(y_test, y_pred)\n",
    "\n",
    "# Calculate R-squared (R2)\n",
    "r2 = r2_score(y_test, y_pred)\n",
    "\n",
    "mae, r2"
   ]
  },
  {
   "cell_type": "code",
<<<<<<< HEAD
   "execution_count": 37,
   "metadata": {},
   "outputs": [
    {
     "name": "stdout",
     "output_type": "stream",
     "text": [
      "Epoch 1/100\n"
     ]
    },
    {
     "name": "stderr",
     "output_type": "stream",
     "text": [
      "/Users/sanskrutiraut/anaconda3/lib/python3.11/site-packages/keras/src/layers/core/dense.py:86: UserWarning: Do not pass an `input_shape`/`input_dim` argument to a layer. When using Sequential models, prefer using an `Input(shape)` object as the first layer in the model instead.\n",
      "  super().__init__(activity_regularizer=activity_regularizer, **kwargs)\n"
     ]
    },
    {
     "name": "stdout",
     "output_type": "stream",
     "text": [
      "\u001b[1m29/29\u001b[0m \u001b[32m━━━━━━━━━━━━━━━━━━━━\u001b[0m\u001b[37m\u001b[0m \u001b[1m1s\u001b[0m 2ms/step - loss: 106.0297 - mean_absolute_error: 10.2459 - mse: 106.0297   \n",
      "Epoch 2/100\n",
      "\u001b[1m29/29\u001b[0m \u001b[32m━━━━━━━━━━━━━━━━━━━━\u001b[0m\u001b[37m\u001b[0m \u001b[1m0s\u001b[0m 1ms/step - loss: 22.5642 - mean_absolute_error: 4.1522 - mse: 22.5642 \n",
      "Epoch 3/100\n",
      "\u001b[1m29/29\u001b[0m \u001b[32m━━━━━━━━━━━━━━━━━━━━\u001b[0m\u001b[37m\u001b[0m \u001b[1m0s\u001b[0m 1ms/step - loss: 6.2590 - mean_absolute_error: 2.0220 - mse: 6.2590 \n",
      "Epoch 4/100\n",
      "\u001b[1m29/29\u001b[0m \u001b[32m━━━━━━━━━━━━━━━━━━━━\u001b[0m\u001b[37m\u001b[0m \u001b[1m0s\u001b[0m 1ms/step - loss: 5.1230 - mean_absolute_error: 1.8036 - mse: 5.1230 \n",
      "Epoch 5/100\n",
      "\u001b[1m29/29\u001b[0m \u001b[32m━━━━━━━━━━━━━━━━━━━━\u001b[0m\u001b[37m\u001b[0m \u001b[1m0s\u001b[0m 1ms/step - loss: 4.8054 - mean_absolute_error: 1.7440 - mse: 4.8054 \n",
      "Epoch 6/100\n",
      "\u001b[1m29/29\u001b[0m \u001b[32m━━━━━━━━━━━━━━━━━━━━\u001b[0m\u001b[37m\u001b[0m \u001b[1m0s\u001b[0m 2ms/step - loss: 4.5505 - mean_absolute_error: 1.6786 - mse: 4.5505\n",
      "Epoch 7/100\n",
      "\u001b[1m29/29\u001b[0m \u001b[32m━━━━━━━━━━━━━━━━━━━━\u001b[0m\u001b[37m\u001b[0m \u001b[1m0s\u001b[0m 1ms/step - loss: 4.4163 - mean_absolute_error: 1.6650 - mse: 4.4163 \n",
      "Epoch 8/100\n",
      "\u001b[1m29/29\u001b[0m \u001b[32m━━━━━━━━━━━━━━━━━━━━\u001b[0m\u001b[37m\u001b[0m \u001b[1m0s\u001b[0m 1ms/step - loss: 4.5040 - mean_absolute_error: 1.6998 - mse: 4.5040 \n",
      "Epoch 9/100\n",
      "\u001b[1m29/29\u001b[0m \u001b[32m━━━━━━━━━━━━━━━━━━━━\u001b[0m\u001b[37m\u001b[0m \u001b[1m0s\u001b[0m 1ms/step - loss: 3.9262 - mean_absolute_error: 1.6107 - mse: 3.9262 \n",
      "Epoch 10/100\n",
      "\u001b[1m29/29\u001b[0m \u001b[32m━━━━━━━━━━━━━━━━━━━━\u001b[0m\u001b[37m\u001b[0m \u001b[1m0s\u001b[0m 1ms/step - loss: 4.0145 - mean_absolute_error: 1.5864 - mse: 4.0145 \n",
      "Epoch 11/100\n",
      "\u001b[1m29/29\u001b[0m \u001b[32m━━━━━━━━━━━━━━━━━━━━\u001b[0m\u001b[37m\u001b[0m \u001b[1m0s\u001b[0m 1ms/step - loss: 3.7414 - mean_absolute_error: 1.5243 - mse: 3.7414 \n",
      "Epoch 12/100\n",
      "\u001b[1m29/29\u001b[0m \u001b[32m━━━━━━━━━━━━━━━━━━━━\u001b[0m\u001b[37m\u001b[0m \u001b[1m0s\u001b[0m 1ms/step - loss: 3.3374 - mean_absolute_error: 1.4873 - mse: 3.3374 \n",
      "Epoch 13/100\n",
      "\u001b[1m29/29\u001b[0m \u001b[32m━━━━━━━━━━━━━━━━━━━━\u001b[0m\u001b[37m\u001b[0m \u001b[1m0s\u001b[0m 1ms/step - loss: 3.6309 - mean_absolute_error: 1.5408 - mse: 3.6309 \n",
      "Epoch 14/100\n",
      "\u001b[1m29/29\u001b[0m \u001b[32m━━━━━━━━━━━━━━━━━━━━\u001b[0m\u001b[37m\u001b[0m \u001b[1m0s\u001b[0m 1ms/step - loss: 3.1273 - mean_absolute_error: 1.3907 - mse: 3.1273 \n",
      "Epoch 15/100\n",
      "\u001b[1m29/29\u001b[0m \u001b[32m━━━━━━━━━━━━━━━━━━━━\u001b[0m\u001b[37m\u001b[0m \u001b[1m0s\u001b[0m 1ms/step - loss: 3.7520 - mean_absolute_error: 1.5562 - mse: 3.7520 \n",
      "Epoch 16/100\n",
      "\u001b[1m29/29\u001b[0m \u001b[32m━━━━━━━━━━━━━━━━━━━━\u001b[0m\u001b[37m\u001b[0m \u001b[1m0s\u001b[0m 1ms/step - loss: 3.1963 - mean_absolute_error: 1.4220 - mse: 3.1963 \n",
      "Epoch 17/100\n",
      "\u001b[1m29/29\u001b[0m \u001b[32m━━━━━━━━━━━━━━━━━━━━\u001b[0m\u001b[37m\u001b[0m \u001b[1m0s\u001b[0m 1ms/step - loss: 3.3027 - mean_absolute_error: 1.4568 - mse: 3.3027 \n",
      "Epoch 18/100\n",
      "\u001b[1m29/29\u001b[0m \u001b[32m━━━━━━━━━━━━━━━━━━━━\u001b[0m\u001b[37m\u001b[0m \u001b[1m0s\u001b[0m 1ms/step - loss: 3.2536 - mean_absolute_error: 1.4479 - mse: 3.2536 \n",
      "Epoch 19/100\n",
      "\u001b[1m29/29\u001b[0m \u001b[32m━━━━━━━━━━━━━━━━━━━━\u001b[0m\u001b[37m\u001b[0m \u001b[1m0s\u001b[0m 1ms/step - loss: 3.2688 - mean_absolute_error: 1.4511 - mse: 3.2688 \n",
      "Epoch 20/100\n",
      "\u001b[1m29/29\u001b[0m \u001b[32m━━━━━━━━━━━━━━━━━━━━\u001b[0m\u001b[37m\u001b[0m \u001b[1m0s\u001b[0m 1ms/step - loss: 3.2417 - mean_absolute_error: 1.4096 - mse: 3.2417 \n",
      "Epoch 21/100\n",
      "\u001b[1m29/29\u001b[0m \u001b[32m━━━━━━━━━━━━━━━━━━━━\u001b[0m\u001b[37m\u001b[0m \u001b[1m0s\u001b[0m 2ms/step - loss: 3.0300 - mean_absolute_error: 1.4041 - mse: 3.0300 \n",
      "Epoch 22/100\n",
      "\u001b[1m29/29\u001b[0m \u001b[32m━━━━━━━━━━━━━━━━━━━━\u001b[0m\u001b[37m\u001b[0m \u001b[1m0s\u001b[0m 1ms/step - loss: 3.3882 - mean_absolute_error: 1.4838 - mse: 3.3882 \n",
      "Epoch 23/100\n",
      "\u001b[1m29/29\u001b[0m \u001b[32m━━━━━━━━━━━━━━━━━━━━\u001b[0m\u001b[37m\u001b[0m \u001b[1m0s\u001b[0m 1ms/step - loss: 3.1808 - mean_absolute_error: 1.4391 - mse: 3.1808 \n",
      "Epoch 24/100\n",
      "\u001b[1m29/29\u001b[0m \u001b[32m━━━━━━━━━━━━━━━━━━━━\u001b[0m\u001b[37m\u001b[0m \u001b[1m0s\u001b[0m 1ms/step - loss: 2.9684 - mean_absolute_error: 1.3909 - mse: 2.9684 \n",
      "Epoch 25/100\n",
      "\u001b[1m29/29\u001b[0m \u001b[32m━━━━━━━━━━━━━━━━━━━━\u001b[0m\u001b[37m\u001b[0m \u001b[1m0s\u001b[0m 1ms/step - loss: 3.0427 - mean_absolute_error: 1.3825 - mse: 3.0427 \n",
      "Epoch 26/100\n",
      "\u001b[1m29/29\u001b[0m \u001b[32m━━━━━━━━━━━━━━━━━━━━\u001b[0m\u001b[37m\u001b[0m \u001b[1m0s\u001b[0m 2ms/step - loss: 3.1349 - mean_absolute_error: 1.3920 - mse: 3.1349\n",
      "Epoch 27/100\n",
      "\u001b[1m29/29\u001b[0m \u001b[32m━━━━━━━━━━━━━━━━━━━━\u001b[0m\u001b[37m\u001b[0m \u001b[1m0s\u001b[0m 1ms/step - loss: 3.3852 - mean_absolute_error: 1.4790 - mse: 3.3852 \n",
      "Epoch 28/100\n",
      "\u001b[1m29/29\u001b[0m \u001b[32m━━━━━━━━━━━━━━━━━━━━\u001b[0m\u001b[37m\u001b[0m \u001b[1m0s\u001b[0m 1ms/step - loss: 3.0686 - mean_absolute_error: 1.4278 - mse: 3.0686 \n",
      "Epoch 29/100\n",
      "\u001b[1m29/29\u001b[0m \u001b[32m━━━━━━━━━━━━━━━━━━━━\u001b[0m\u001b[37m\u001b[0m \u001b[1m0s\u001b[0m 2ms/step - loss: 2.9383 - mean_absolute_error: 1.3880 - mse: 2.9383\n",
      "Epoch 30/100\n",
      "\u001b[1m29/29\u001b[0m \u001b[32m━━━━━━━━━━━━━━━━━━━━\u001b[0m\u001b[37m\u001b[0m \u001b[1m0s\u001b[0m 1ms/step - loss: 2.8285 - mean_absolute_error: 1.3415 - mse: 2.8285 \n",
      "Epoch 31/100\n",
      "\u001b[1m29/29\u001b[0m \u001b[32m━━━━━━━━━━━━━━━━━━━━\u001b[0m\u001b[37m\u001b[0m \u001b[1m0s\u001b[0m 1ms/step - loss: 3.0413 - mean_absolute_error: 1.3836 - mse: 3.0413 \n",
      "Epoch 32/100\n",
      "\u001b[1m29/29\u001b[0m \u001b[32m━━━━━━━━━━━━━━━━━━━━\u001b[0m\u001b[37m\u001b[0m \u001b[1m0s\u001b[0m 1ms/step - loss: 2.7102 - mean_absolute_error: 1.3229 - mse: 2.7102 \n",
      "Epoch 33/100\n",
      "\u001b[1m29/29\u001b[0m \u001b[32m━━━━━━━━━━━━━━━━━━━━\u001b[0m\u001b[37m\u001b[0m \u001b[1m0s\u001b[0m 1ms/step - loss: 2.9587 - mean_absolute_error: 1.3861 - mse: 2.9587 \n",
      "Epoch 34/100\n",
      "\u001b[1m29/29\u001b[0m \u001b[32m━━━━━━━━━━━━━━━━━━━━\u001b[0m\u001b[37m\u001b[0m \u001b[1m0s\u001b[0m 1ms/step - loss: 3.2201 - mean_absolute_error: 1.4231 - mse: 3.2201 \n",
      "Epoch 35/100\n",
      "\u001b[1m29/29\u001b[0m \u001b[32m━━━━━━━━━━━━━━━━━━━━\u001b[0m\u001b[37m\u001b[0m \u001b[1m0s\u001b[0m 1ms/step - loss: 3.2332 - mean_absolute_error: 1.4290 - mse: 3.2332 \n",
      "Epoch 36/100\n",
      "\u001b[1m29/29\u001b[0m \u001b[32m━━━━━━━━━━━━━━━━━━━━\u001b[0m\u001b[37m\u001b[0m \u001b[1m0s\u001b[0m 1ms/step - loss: 3.1917 - mean_absolute_error: 1.4241 - mse: 3.1917 \n",
      "Epoch 37/100\n",
      "\u001b[1m29/29\u001b[0m \u001b[32m━━━━━━━━━━━━━━━━━━━━\u001b[0m\u001b[37m\u001b[0m \u001b[1m0s\u001b[0m 1ms/step - loss: 2.7490 - mean_absolute_error: 1.3219 - mse: 2.7490 \n",
      "Epoch 38/100\n",
      "\u001b[1m29/29\u001b[0m \u001b[32m━━━━━━━━━━━━━━━━━━━━\u001b[0m\u001b[37m\u001b[0m \u001b[1m0s\u001b[0m 1ms/step - loss: 2.8513 - mean_absolute_error: 1.3627 - mse: 2.8513 \n",
      "Epoch 39/100\n",
      "\u001b[1m29/29\u001b[0m \u001b[32m━━━━━━━━━━━━━━━━━━━━\u001b[0m\u001b[37m\u001b[0m \u001b[1m0s\u001b[0m 1ms/step - loss: 3.1598 - mean_absolute_error: 1.4142 - mse: 3.1598 \n",
      "Epoch 40/100\n",
      "\u001b[1m29/29\u001b[0m \u001b[32m━━━━━━━━━━━━━━━━━━━━\u001b[0m\u001b[37m\u001b[0m \u001b[1m0s\u001b[0m 1ms/step - loss: 3.0052 - mean_absolute_error: 1.3924 - mse: 3.0052 \n",
      "Epoch 41/100\n",
      "\u001b[1m29/29\u001b[0m \u001b[32m━━━━━━━━━━━━━━━━━━━━\u001b[0m\u001b[37m\u001b[0m \u001b[1m0s\u001b[0m 1ms/step - loss: 2.7291 - mean_absolute_error: 1.3105 - mse: 2.7291 \n",
      "Epoch 42/100\n",
      "\u001b[1m29/29\u001b[0m \u001b[32m━━━━━━━━━━━━━━━━━━━━\u001b[0m\u001b[37m\u001b[0m \u001b[1m0s\u001b[0m 1ms/step - loss: 2.6877 - mean_absolute_error: 1.3197 - mse: 2.6877 \n",
      "Epoch 43/100\n",
      "\u001b[1m29/29\u001b[0m \u001b[32m━━━━━━━━━━━━━━━━━━━━\u001b[0m\u001b[37m\u001b[0m \u001b[1m0s\u001b[0m 1ms/step - loss: 2.8640 - mean_absolute_error: 1.3615 - mse: 2.8640 \n",
      "Epoch 44/100\n",
      "\u001b[1m29/29\u001b[0m \u001b[32m━━━━━━━━━━━━━━━━━━━━\u001b[0m\u001b[37m\u001b[0m \u001b[1m0s\u001b[0m 1ms/step - loss: 2.7454 - mean_absolute_error: 1.2986 - mse: 2.7454 \n",
      "Epoch 45/100\n",
      "\u001b[1m29/29\u001b[0m \u001b[32m━━━━━━━━━━━━━━━━━━━━\u001b[0m\u001b[37m\u001b[0m \u001b[1m0s\u001b[0m 1ms/step - loss: 2.8811 - mean_absolute_error: 1.3746 - mse: 2.8811 \n",
      "Epoch 46/100\n",
      "\u001b[1m29/29\u001b[0m \u001b[32m━━━━━━━━━━━━━━━━━━━━\u001b[0m\u001b[37m\u001b[0m \u001b[1m0s\u001b[0m 1ms/step - loss: 3.1428 - mean_absolute_error: 1.3732 - mse: 3.1428 \n",
      "Epoch 47/100\n",
      "\u001b[1m29/29\u001b[0m \u001b[32m━━━━━━━━━━━━━━━━━━━━\u001b[0m\u001b[37m\u001b[0m \u001b[1m0s\u001b[0m 1ms/step - loss: 2.6279 - mean_absolute_error: 1.3120 - mse: 2.6279 \n",
      "Epoch 48/100\n",
      "\u001b[1m29/29\u001b[0m \u001b[32m━━━━━━━━━━━━━━━━━━━━\u001b[0m\u001b[37m\u001b[0m \u001b[1m0s\u001b[0m 1ms/step - loss: 2.5812 - mean_absolute_error: 1.2915 - mse: 2.5812 \n",
      "Epoch 49/100\n",
      "\u001b[1m29/29\u001b[0m \u001b[32m━━━━━━━━━━━━━━━━━━━━\u001b[0m\u001b[37m\u001b[0m \u001b[1m0s\u001b[0m 1ms/step - loss: 2.6923 - mean_absolute_error: 1.3189 - mse: 2.6923 \n",
      "Epoch 50/100\n",
      "\u001b[1m29/29\u001b[0m \u001b[32m━━━━━━━━━━━━━━━━━━━━\u001b[0m\u001b[37m\u001b[0m \u001b[1m0s\u001b[0m 1ms/step - loss: 2.7910 - mean_absolute_error: 1.3361 - mse: 2.7910 \n",
      "Epoch 51/100\n",
      "\u001b[1m29/29\u001b[0m \u001b[32m━━━━━━━━━━━━━━━━━━━━\u001b[0m\u001b[37m\u001b[0m \u001b[1m0s\u001b[0m 1ms/step - loss: 2.8613 - mean_absolute_error: 1.3185 - mse: 2.8613 \n",
      "Epoch 52/100\n",
      "\u001b[1m29/29\u001b[0m \u001b[32m━━━━━━━━━━━━━━━━━━━━\u001b[0m\u001b[37m\u001b[0m \u001b[1m0s\u001b[0m 1ms/step - loss: 2.6995 - mean_absolute_error: 1.3159 - mse: 2.6995 \n",
      "Epoch 53/100\n",
      "\u001b[1m29/29\u001b[0m \u001b[32m━━━━━━━━━━━━━━━━━━━━\u001b[0m\u001b[37m\u001b[0m \u001b[1m0s\u001b[0m 1ms/step - loss: 2.5493 - mean_absolute_error: 1.2649 - mse: 2.5493 \n",
      "Epoch 54/100\n",
      "\u001b[1m29/29\u001b[0m \u001b[32m━━━━━━━━━━━━━━━━━━━━\u001b[0m\u001b[37m\u001b[0m \u001b[1m0s\u001b[0m 1ms/step - loss: 2.8535 - mean_absolute_error: 1.3301 - mse: 2.8535 \n",
      "Epoch 55/100\n",
      "\u001b[1m29/29\u001b[0m \u001b[32m━━━━━━━━━━━━━━━━━━━━\u001b[0m\u001b[37m\u001b[0m \u001b[1m0s\u001b[0m 1ms/step - loss: 3.0972 - mean_absolute_error: 1.3805 - mse: 3.0972 \n",
      "Epoch 56/100\n",
      "\u001b[1m29/29\u001b[0m \u001b[32m━━━━━━━━━━━━━━━━━━━━\u001b[0m\u001b[37m\u001b[0m \u001b[1m0s\u001b[0m 1ms/step - loss: 2.3955 - mean_absolute_error: 1.2397 - mse: 2.3955 \n",
      "Epoch 57/100\n",
      "\u001b[1m29/29\u001b[0m \u001b[32m━━━━━━━━━━━━━━━━━━━━\u001b[0m\u001b[37m\u001b[0m \u001b[1m0s\u001b[0m 1ms/step - loss: 2.9592 - mean_absolute_error: 1.3729 - mse: 2.9592 \n",
      "Epoch 58/100\n",
      "\u001b[1m29/29\u001b[0m \u001b[32m━━━━━━━━━━━━━━━━━━━━\u001b[0m\u001b[37m\u001b[0m \u001b[1m0s\u001b[0m 1ms/step - loss: 2.4639 - mean_absolute_error: 1.2385 - mse: 2.4639 \n",
      "Epoch 59/100\n",
      "\u001b[1m29/29\u001b[0m \u001b[32m━━━━━━━━━━━━━━━━━━━━\u001b[0m\u001b[37m\u001b[0m \u001b[1m0s\u001b[0m 1ms/step - loss: 2.6881 - mean_absolute_error: 1.3178 - mse: 2.6881 \n",
      "Epoch 60/100\n",
      "\u001b[1m29/29\u001b[0m \u001b[32m━━━━━━━━━━━━━━━━━━━━\u001b[0m\u001b[37m\u001b[0m \u001b[1m0s\u001b[0m 1ms/step - loss: 2.7123 - mean_absolute_error: 1.3181 - mse: 2.7123 \n",
      "Epoch 61/100\n",
      "\u001b[1m29/29\u001b[0m \u001b[32m━━━━━━━━━━━━━━━━━━━━\u001b[0m\u001b[37m\u001b[0m \u001b[1m0s\u001b[0m 1ms/step - loss: 2.8827 - mean_absolute_error: 1.3600 - mse: 2.8827 \n",
      "Epoch 62/100\n",
      "\u001b[1m29/29\u001b[0m \u001b[32m━━━━━━━━━━━━━━━━━━━━\u001b[0m\u001b[37m\u001b[0m \u001b[1m0s\u001b[0m 1ms/step - loss: 2.7893 - mean_absolute_error: 1.3282 - mse: 2.7893 \n",
      "Epoch 63/100\n",
      "\u001b[1m29/29\u001b[0m \u001b[32m━━━━━━━━━━━━━━━━━━━━\u001b[0m\u001b[37m\u001b[0m \u001b[1m0s\u001b[0m 1ms/step - loss: 2.9166 - mean_absolute_error: 1.3702 - mse: 2.9166 \n",
      "Epoch 64/100\n",
      "\u001b[1m29/29\u001b[0m \u001b[32m━━━━━━━━━━━━━━━━━━━━\u001b[0m\u001b[37m\u001b[0m \u001b[1m0s\u001b[0m 1ms/step - loss: 2.5928 - mean_absolute_error: 1.3008 - mse: 2.5928 \n",
      "Epoch 65/100\n",
      "\u001b[1m29/29\u001b[0m \u001b[32m━━━━━━━━━━━━━━━━━━━━\u001b[0m\u001b[37m\u001b[0m \u001b[1m0s\u001b[0m 1ms/step - loss: 2.8675 - mean_absolute_error: 1.3700 - mse: 2.8675 \n",
      "Epoch 66/100\n",
      "\u001b[1m29/29\u001b[0m \u001b[32m━━━━━━━━━━━━━━━━━━━━\u001b[0m\u001b[37m\u001b[0m \u001b[1m0s\u001b[0m 1ms/step - loss: 2.5430 - mean_absolute_error: 1.2811 - mse: 2.5430 \n",
      "Epoch 67/100\n",
      "\u001b[1m29/29\u001b[0m \u001b[32m━━━━━━━━━━━━━━━━━━━━\u001b[0m\u001b[37m\u001b[0m \u001b[1m0s\u001b[0m 1ms/step - loss: 2.6146 - mean_absolute_error: 1.2746 - mse: 2.6146 \n",
      "Epoch 68/100\n",
      "\u001b[1m29/29\u001b[0m \u001b[32m━━━━━━━━━━━━━━━━━━━━\u001b[0m\u001b[37m\u001b[0m \u001b[1m0s\u001b[0m 1ms/step - loss: 2.3588 - mean_absolute_error: 1.2253 - mse: 2.3588 \n",
      "Epoch 69/100\n",
      "\u001b[1m29/29\u001b[0m \u001b[32m━━━━━━━━━━━━━━━━━━━━\u001b[0m\u001b[37m\u001b[0m \u001b[1m0s\u001b[0m 1ms/step - loss: 2.5059 - mean_absolute_error: 1.2667 - mse: 2.5059 \n",
      "Epoch 70/100\n",
      "\u001b[1m29/29\u001b[0m \u001b[32m━━━━━━━━━━━━━━━━━━━━\u001b[0m\u001b[37m\u001b[0m \u001b[1m0s\u001b[0m 1ms/step - loss: 2.5627 - mean_absolute_error: 1.2786 - mse: 2.5627 \n",
      "Epoch 71/100\n",
      "\u001b[1m29/29\u001b[0m \u001b[32m━━━━━━━━━━━━━━━━━━━━\u001b[0m\u001b[37m\u001b[0m \u001b[1m0s\u001b[0m 1ms/step - loss: 2.5352 - mean_absolute_error: 1.2535 - mse: 2.5352 \n",
      "Epoch 72/100\n",
      "\u001b[1m29/29\u001b[0m \u001b[32m━━━━━━━━━━━━━━━━━━━━\u001b[0m\u001b[37m\u001b[0m \u001b[1m0s\u001b[0m 1ms/step - loss: 2.4396 - mean_absolute_error: 1.2363 - mse: 2.4396 \n",
      "Epoch 73/100\n",
      "\u001b[1m29/29\u001b[0m \u001b[32m━━━━━━━━━━━━━━━━━━━━\u001b[0m\u001b[37m\u001b[0m \u001b[1m0s\u001b[0m 1ms/step - loss: 2.5738 - mean_absolute_error: 1.2948 - mse: 2.5738 \n",
      "Epoch 74/100\n",
      "\u001b[1m29/29\u001b[0m \u001b[32m━━━━━━━━━━━━━━━━━━━━\u001b[0m\u001b[37m\u001b[0m \u001b[1m0s\u001b[0m 1ms/step - loss: 2.3797 - mean_absolute_error: 1.2197 - mse: 2.3797 \n",
      "Epoch 75/100\n",
      "\u001b[1m29/29\u001b[0m \u001b[32m━━━━━━━━━━━━━━━━━━━━\u001b[0m\u001b[37m\u001b[0m \u001b[1m0s\u001b[0m 1ms/step - loss: 2.4504 - mean_absolute_error: 1.2657 - mse: 2.4504 \n",
      "Epoch 76/100\n",
      "\u001b[1m29/29\u001b[0m \u001b[32m━━━━━━━━━━━━━━━━━━━━\u001b[0m\u001b[37m\u001b[0m \u001b[1m0s\u001b[0m 1ms/step - loss: 2.2694 - mean_absolute_error: 1.1952 - mse: 2.2694 \n",
      "Epoch 77/100\n",
      "\u001b[1m29/29\u001b[0m \u001b[32m━━━━━━━━━━━━━━━━━━━━\u001b[0m\u001b[37m\u001b[0m \u001b[1m0s\u001b[0m 1ms/step - loss: 2.4313 - mean_absolute_error: 1.2478 - mse: 2.4313 \n",
      "Epoch 78/100\n",
      "\u001b[1m29/29\u001b[0m \u001b[32m━━━━━━━━━━━━━━━━━━━━\u001b[0m\u001b[37m\u001b[0m \u001b[1m0s\u001b[0m 1ms/step - loss: 2.2766 - mean_absolute_error: 1.2102 - mse: 2.2766 \n",
      "Epoch 79/100\n",
      "\u001b[1m29/29\u001b[0m \u001b[32m━━━━━━━━━━━━━━━━━━━━\u001b[0m\u001b[37m\u001b[0m \u001b[1m0s\u001b[0m 1ms/step - loss: 2.4361 - mean_absolute_error: 1.2256 - mse: 2.4361 \n",
      "Epoch 80/100\n",
      "\u001b[1m29/29\u001b[0m \u001b[32m━━━━━━━━━━━━━━━━━━━━\u001b[0m\u001b[37m\u001b[0m \u001b[1m0s\u001b[0m 1ms/step - loss: 2.4143 - mean_absolute_error: 1.2450 - mse: 2.4143 \n",
      "Epoch 81/100\n",
      "\u001b[1m29/29\u001b[0m \u001b[32m━━━━━━━━━━━━━━━━━━━━\u001b[0m\u001b[37m\u001b[0m \u001b[1m0s\u001b[0m 1ms/step - loss: 2.4713 - mean_absolute_error: 1.2516 - mse: 2.4713 \n",
      "Epoch 82/100\n",
      "\u001b[1m29/29\u001b[0m \u001b[32m━━━━━━━━━━━━━━━━━━━━\u001b[0m\u001b[37m\u001b[0m \u001b[1m0s\u001b[0m 1ms/step - loss: 2.2330 - mean_absolute_error: 1.1918 - mse: 2.2330 \n",
      "Epoch 83/100\n",
      "\u001b[1m29/29\u001b[0m \u001b[32m━━━━━━━━━━━━━━━━━━━━\u001b[0m\u001b[37m\u001b[0m \u001b[1m0s\u001b[0m 1ms/step - loss: 2.7953 - mean_absolute_error: 1.3253 - mse: 2.7953 \n",
      "Epoch 84/100\n",
      "\u001b[1m29/29\u001b[0m \u001b[32m━━━━━━━━━━━━━━━━━━━━\u001b[0m\u001b[37m\u001b[0m \u001b[1m0s\u001b[0m 1ms/step - loss: 2.3516 - mean_absolute_error: 1.2322 - mse: 2.3516 \n",
      "Epoch 85/100\n",
      "\u001b[1m29/29\u001b[0m \u001b[32m━━━━━━━━━━━━━━━━━━━━\u001b[0m\u001b[37m\u001b[0m \u001b[1m0s\u001b[0m 1ms/step - loss: 2.2818 - mean_absolute_error: 1.1914 - mse: 2.2818 \n",
      "Epoch 86/100\n",
      "\u001b[1m29/29\u001b[0m \u001b[32m━━━━━━━━━━━━━━━━━━━━\u001b[0m\u001b[37m\u001b[0m \u001b[1m0s\u001b[0m 1ms/step - loss: 2.3147 - mean_absolute_error: 1.2434 - mse: 2.3147 \n",
      "Epoch 87/100\n",
      "\u001b[1m29/29\u001b[0m \u001b[32m━━━━━━━━━━━━━━━━━━━━\u001b[0m\u001b[37m\u001b[0m \u001b[1m0s\u001b[0m 1ms/step - loss: 2.4104 - mean_absolute_error: 1.2594 - mse: 2.4104 \n",
      "Epoch 88/100\n",
      "\u001b[1m29/29\u001b[0m \u001b[32m━━━━━━━━━━━━━━━━━━━━\u001b[0m\u001b[37m\u001b[0m \u001b[1m0s\u001b[0m 1ms/step - loss: 2.4781 - mean_absolute_error: 1.2505 - mse: 2.4781 \n",
      "Epoch 89/100\n",
      "\u001b[1m29/29\u001b[0m \u001b[32m━━━━━━━━━━━━━━━━━━━━\u001b[0m\u001b[37m\u001b[0m \u001b[1m0s\u001b[0m 1ms/step - loss: 2.2675 - mean_absolute_error: 1.2048 - mse: 2.2675 \n",
      "Epoch 90/100\n",
      "\u001b[1m29/29\u001b[0m \u001b[32m━━━━━━━━━━━━━━━━━━━━\u001b[0m\u001b[37m\u001b[0m \u001b[1m0s\u001b[0m 1ms/step - loss: 2.4106 - mean_absolute_error: 1.2363 - mse: 2.4106 \n",
      "Epoch 91/100\n",
      "\u001b[1m29/29\u001b[0m \u001b[32m━━━━━━━━━━━━━━━━━━━━\u001b[0m\u001b[37m\u001b[0m \u001b[1m0s\u001b[0m 1ms/step - loss: 2.0766 - mean_absolute_error: 1.1558 - mse: 2.0766 \n",
      "Epoch 92/100\n",
      "\u001b[1m29/29\u001b[0m \u001b[32m━━━━━━━━━━━━━━━━━━━━\u001b[0m\u001b[37m\u001b[0m \u001b[1m0s\u001b[0m 1ms/step - loss: 2.2043 - mean_absolute_error: 1.1678 - mse: 2.2043 \n",
      "Epoch 93/100\n",
      "\u001b[1m29/29\u001b[0m \u001b[32m━━━━━━━━━━━━━━━━━━━━\u001b[0m\u001b[37m\u001b[0m \u001b[1m0s\u001b[0m 1ms/step - loss: 2.4324 - mean_absolute_error: 1.2492 - mse: 2.4324 \n",
      "Epoch 94/100\n",
      "\u001b[1m29/29\u001b[0m \u001b[32m━━━━━━━━━━━━━━━━━━━━\u001b[0m\u001b[37m\u001b[0m \u001b[1m0s\u001b[0m 1ms/step - loss: 2.2774 - mean_absolute_error: 1.1788 - mse: 2.2774 \n",
      "Epoch 95/100\n",
      "\u001b[1m29/29\u001b[0m \u001b[32m━━━━━━━━━━━━━━━━━━━━\u001b[0m\u001b[37m\u001b[0m \u001b[1m0s\u001b[0m 1ms/step - loss: 2.5986 - mean_absolute_error: 1.3092 - mse: 2.5986 \n",
      "Epoch 96/100\n",
      "\u001b[1m29/29\u001b[0m \u001b[32m━━━━━━━━━━━━━━━━━━━━\u001b[0m\u001b[37m\u001b[0m \u001b[1m0s\u001b[0m 1ms/step - loss: 2.4677 - mean_absolute_error: 1.2516 - mse: 2.4677 \n",
      "Epoch 97/100\n",
      "\u001b[1m29/29\u001b[0m \u001b[32m━━━━━━━━━━━━━━━━━━━━\u001b[0m\u001b[37m\u001b[0m \u001b[1m0s\u001b[0m 1ms/step - loss: 1.9900 - mean_absolute_error: 1.1121 - mse: 1.9900 \n",
      "Epoch 98/100\n",
      "\u001b[1m29/29\u001b[0m \u001b[32m━━━━━━━━━━━━━━━━━━━━\u001b[0m\u001b[37m\u001b[0m \u001b[1m0s\u001b[0m 1ms/step - loss: 2.2802 - mean_absolute_error: 1.2129 - mse: 2.2802 \n",
      "Epoch 99/100\n",
      "\u001b[1m29/29\u001b[0m \u001b[32m━━━━━━━━━━━━━━━━━━━━\u001b[0m\u001b[37m\u001b[0m \u001b[1m0s\u001b[0m 1ms/step - loss: 2.1429 - mean_absolute_error: 1.1744 - mse: 2.1429 \n",
      "Epoch 100/100\n",
      "\u001b[1m29/29\u001b[0m \u001b[32m━━━━━━━━━━━━━━━━━━━━\u001b[0m\u001b[37m\u001b[0m \u001b[1m0s\u001b[0m 1ms/step - loss: 2.0908 - mean_absolute_error: 1.1602 - mse: 2.0908 \n",
      "\u001b[1m29/29\u001b[0m \u001b[32m━━━━━━━━━━━━━━━━━━━━\u001b[0m\u001b[37m\u001b[0m \u001b[1m0s\u001b[0m 2ms/step\n",
      "Training MSE: 0.06044236534862079\n",
      "Training MAE: 0.1941223255926628\n",
      "Training R-squared: 0.8433578972714396\n"
     ]
    }
   ],
   "source": [
    "import tensorflow as tf\n",
    "from tensorflow import keras\n",
    "from tensorflow.keras import layers\n",
    "from sklearn.preprocessing import StandardScaler, OneHotEncoder\n",
    "from sklearn.compose import ColumnTransformer\n",
    "from sklearn.metrics import mean_squared_error, mean_absolute_error, r2_score\n",
    "\n",
    "\n",
    "\n",
    "preprocessor = ColumnTransformer(\n",
    "    transformers=[\n",
    "        ('num', numerical_transformer, numerical_cols),\n",
    "        ('cat', categorical_transformer, categorical_cols)\n",
    "    ])\n",
    "\n",
    "# Preprocess the training data\n",
    "X_train_preprocessed = preprocessor.fit_transform(X_train)\n",
    "\n",
    "# Define the neural network model\n",
    "model = keras.Sequential([\n",
    "    layers.Dense(128, activation='relu', input_shape=(X_train_preprocessed.shape[1],)),\n",
    "    layers.Dropout(0.2),  # Adding dropout for regularization\n",
    "    layers.Dense(64, activation='relu'),\n",
    "    layers.Dropout(0.2),  # Adding dropout for regularization\n",
    "    layers.Dense(32, activation='relu'),\n",
    "    layers.Dropout(0.2),  # Adding dropout for regularization\n",
    "    layers.Dense(1)  # Output layer with a single neuron (for regression)\n",
    "])\n",
    "\n",
    "# Compile the model\n",
    "model.compile(optimizer='adam', loss='mean_squared_error', metrics=['mean_absolute_error', 'mse'])\n",
    "\n",
    "# Train the model\n",
    "history = model.fit(X_train_preprocessed, y_train, epochs=100, batch_size=32, verbose=1)\n",
    "\n",
    "# Evaluate the model on training data\n",
    "y_train_pred = model.predict(X_train_preprocessed)\n",
    "train_mse = mean_squared_error(y_train, y_train_pred)\n",
    "train_mae = mean_absolute_error(y_train, y_train_pred)\n",
    "train_r2 = r2_score(y_train, y_train_pred)\n",
    "\n",
    "print(\"Training MSE:\", train_mse)\n",
    "print(\"Training MAE:\", train_mae)\n",
    "print(\"Training R-squared:\", train_r2)"
   ]
  },
  {
   "cell_type": "code",
   "execution_count": null,
   "metadata": {},
   "outputs": [],
   "source": []
=======
   "execution_count": null,
   "metadata": {},
   "outputs": [],
   "source": [
    "# import tensorflow as tf\n",
    "# from tensorflow import keras\n",
    "# from tensorflow.keras import layers\n",
    "# from sklearn.preprocessing import StandardScaler\n",
    "# from sklearn.metrics import mean_squared_error, mean_absolute_error, r2_score\n",
    "\n",
    "# # Define the neural network model\n",
    "# model = keras.Sequential([\n",
    "#     layers.Dense(128, activation='relu', input_shape=(X_train.shape[1],)),\n",
    "#     layers.Dropout(0.2),  # Adding dropout for regularization\n",
    "#     layers.Dense(64, activation='relu'),\n",
    "#     layers.Dropout(0.2),  # Adding dropout for regularization\n",
    "#     layers.Dense(32, activation='relu'),\n",
    "#     layers.Dropout(0.2),  # Adding dropout for regularization\n",
    "#     layers.Dense(1)  # Output layer with a single neuron (for regression)\n",
    "# ])\n",
    "\n",
    "# # Compile the model\n",
    "# model.compile(optimizer='adam', loss='mean_squared_error', metrics=['mean_absolute_error', 'mse'])\n",
    "\n",
    "# # Train the model\n",
    "# history = model.fit(X_train, y_train, epochs=100, batch_size=32, verbose=1)\n",
    "\n",
    "# # Evaluate the model on training data\n",
    "# y_train_pred = model.predict(X_train)\n",
    "# train_mse = mean_squared_error(y_train, y_train_pred)\n",
    "# train_mae = mean_absolute_error(y_train, y_train_pred)\n",
    "# train_r2 = r2_score(y_train, y_train_pred)\n",
    "\n",
    "# print(\"Training MSE:\", train_mse)\n",
    "# print(\"Training MAE:\", train_mae)\n",
    "# print(\"Training R-squared:\", train_r2)"
   ]
>>>>>>> 2aa48f7c9b1ceef4006d1d815362e15f2853ff2d
  }
 ],
 "metadata": {
  "kernelspec": {
   "display_name": "Python 3",
   "language": "python",
   "name": "python3"
  },
  "language_info": {
   "codemirror_mode": {
    "name": "ipython",
    "version": 3
   },
   "file_extension": ".py",
   "mimetype": "text/x-python",
   "name": "python",
   "nbconvert_exporter": "python",
   "pygments_lexer": "ipython3",
<<<<<<< HEAD
   "version": "3.11.5"
=======
   "version": "3.9.12"
>>>>>>> 2aa48f7c9b1ceef4006d1d815362e15f2853ff2d
  }
 },
 "nbformat": 4,
 "nbformat_minor": 2
}
